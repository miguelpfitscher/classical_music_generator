{
 "nbformat": 4,
 "nbformat_minor": 0,
 "metadata": {
  "colab": {
   "provenance": [],
   "collapsed_sections": [],
   "authorship_tag": "ABX9TyNaO430T64PPwKBeIl+NUX/"
  },
  "kernelspec": {
   "name": "python3",
   "display_name": "Python 3"
  },
  "language_info": {
   "name": "python"
  }
 },
 "cells": [
  {
   "cell_type": "code",
   "source": [
    "!apt-get update -qq && apt-get install -qq libfluidsynth1 fluid-soundfont-gm build-essential libasound2-dev libjack-dev\n",
    "!pip install pypianoroll"
   ],
   "metadata": {
    "colab": {
     "base_uri": "https://localhost:8080/"
    },
    "id": "BgAf2WRsr0m2",
    "executionInfo": {
     "status": "ok",
     "timestamp": 1662380224582,
     "user_tz": 180,
     "elapsed": 46889,
     "user": {
      "displayName": "Miguel",
      "userId": "03341687265919124027"
     }
    },
    "outputId": "c6103c8c-4266-4fa6-9190-ce692416feb6",
    "pycharm": {
     "name": "#%%\n"
    }
   },
   "execution_count": null,
   "outputs": [
    {
     "output_type": "stream",
     "name": "stdout",
     "text": [
      "Selecting previously unselected package fluid-soundfont-gm.\n",
      "(Reading database ... 155685 files and directories currently installed.)\n",
      "Preparing to unpack .../fluid-soundfont-gm_3.1-5.1_all.deb ...\n",
      "Unpacking fluid-soundfont-gm (3.1-5.1) ...\n",
      "Selecting previously unselected package libfluidsynth1:amd64.\n",
      "Preparing to unpack .../libfluidsynth1_1.1.9-1_amd64.deb ...\n",
      "Unpacking libfluidsynth1:amd64 (1.1.9-1) ...\n",
      "Setting up fluid-soundfont-gm (3.1-5.1) ...\n",
      "Setting up libfluidsynth1:amd64 (1.1.9-1) ...\n",
      "Processing triggers for libc-bin (2.27-3ubuntu1.5) ...\n",
      "Looking in indexes: https://pypi.org/simple, https://us-python.pkg.dev/colab-wheels/public/simple/\n",
      "Collecting pypianoroll\n",
      "  Downloading pypianoroll-1.0.4-py3-none-any.whl (26 kB)\n",
      "Requirement already satisfied: numpy>=1.12.0 in /usr/local/lib/python3.7/dist-packages (from pypianoroll) (1.21.6)\n",
      "Collecting pretty-midi>=0.2.8\n",
      "  Downloading pretty_midi-0.2.9.tar.gz (5.6 MB)\n",
      "\u001B[K     |████████████████████████████████| 5.6 MB 6.8 MB/s \n",
      "\u001B[?25hRequirement already satisfied: scipy>=1.0.0 in /usr/local/lib/python3.7/dist-packages (from pypianoroll) (1.7.3)\n",
      "Requirement already satisfied: matplotlib>=1.5 in /usr/local/lib/python3.7/dist-packages (from pypianoroll) (3.2.2)\n",
      "Requirement already satisfied: pyparsing!=2.0.4,!=2.1.2,!=2.1.6,>=2.0.1 in /usr/local/lib/python3.7/dist-packages (from matplotlib>=1.5->pypianoroll) (3.0.9)\n",
      "Requirement already satisfied: kiwisolver>=1.0.1 in /usr/local/lib/python3.7/dist-packages (from matplotlib>=1.5->pypianoroll) (1.4.4)\n",
      "Requirement already satisfied: cycler>=0.10 in /usr/local/lib/python3.7/dist-packages (from matplotlib>=1.5->pypianoroll) (0.11.0)\n",
      "Requirement already satisfied: python-dateutil>=2.1 in /usr/local/lib/python3.7/dist-packages (from matplotlib>=1.5->pypianoroll) (2.8.2)\n",
      "Requirement already satisfied: typing-extensions in /usr/local/lib/python3.7/dist-packages (from kiwisolver>=1.0.1->matplotlib>=1.5->pypianoroll) (4.1.1)\n",
      "Collecting mido>=1.1.16\n",
      "  Downloading mido-1.2.10-py2.py3-none-any.whl (51 kB)\n",
      "\u001B[K     |████████████████████████████████| 51 kB 4.2 MB/s \n",
      "\u001B[?25hRequirement already satisfied: six in /usr/local/lib/python3.7/dist-packages (from pretty-midi>=0.2.8->pypianoroll) (1.15.0)\n",
      "Building wheels for collected packages: pretty-midi\n",
      "  Building wheel for pretty-midi (setup.py) ... \u001B[?25l\u001B[?25hdone\n",
      "  Created wheel for pretty-midi: filename=pretty_midi-0.2.9-py3-none-any.whl size=5591955 sha256=3d7f4d0a96031e672daa490e56353af04a66ad2319ea62f05ac40033e26c8622\n",
      "  Stored in directory: /root/.cache/pip/wheels/ad/74/7c/a06473ca8dcb63efb98c1e67667ce39d52100f837835ea18fa\n",
      "Successfully built pretty-midi\n",
      "Installing collected packages: mido, pretty-midi, pypianoroll\n",
      "Successfully installed mido-1.2.10 pretty-midi-0.2.9 pypianoroll-1.0.4\n"
     ]
    }
   ]
  },
  {
   "cell_type": "code",
   "execution_count": null,
   "metadata": {
    "colab": {
     "base_uri": "https://localhost:8080/"
    },
    "id": "qSENJ1w0t7_k",
    "executionInfo": {
     "status": "ok",
     "timestamp": 1662380247624,
     "user_tz": 180,
     "elapsed": 23046,
     "user": {
      "displayName": "Miguel",
      "userId": "03341687265919124027"
     }
    },
    "outputId": "13aaa920-012b-46f4-bfe0-d209b8e1141f",
    "pycharm": {
     "name": "#%%\n"
    }
   },
   "outputs": [
    {
     "output_type": "stream",
     "name": "stdout",
     "text": [
      "Mounted at /content/drive/\n"
     ]
    }
   ],
   "source": [
    "import pypianoroll\n",
    "from google.colab import drive\n",
    "import os\n",
    "import numpy as np\n",
    "from datetime import datetime\n",
    "import glob\n",
    "import pandas as pd\n",
    "import random\n",
    "from collections import Counter\n",
    "from google.colab import drive\n",
    "import torch\n",
    "import os\n",
    "import pandas as pd\n",
    "import gc\n",
    "from sklearn.model_selection import train_test_split\n",
    "device = 'cpu'\n",
    "drive.mount('/content/drive/')"
   ]
  },
  {
   "cell_type": "code",
   "source": [
    "\n",
    "def create_parts(mid):\n",
    "  parts = {'Piano': None, 'Piano Right': None, 'Piano Left': None, 'Violin1': None, 'Violin2': None, 'Viola': None, 'Cello': None}\n",
    "\n",
    "  programs = {'Piano': None, 'Piano Right': None, 'Piano Left': None, 'Violin1': None, 'Violin2': None, 'Viola': None, 'Cello': None}\n",
    "\n",
    "  to_normalize = {\n",
    "  'Right': 'Piano Right',\n",
    "  'Left': 'Piano Left',\n",
    "  'Grand Piano': 'Piano',\n",
    "  'Violino I': 'Violin1',\n",
    "  'Violino II': 'Violin2',\n",
    "  '1st Violin': 'Violin1',\n",
    "  '2nd Violin': 'Violin2',\n",
    "  'Solo Cello': 'Cello',\n",
    "  'Violoncello': 'Cello',\n",
    "  'Cello Pizz': 'Cello',\n",
    "  'Six Suites for Solo Cello': 'Cello',\n",
    "  'Violin 1': 'Violin1',\n",
    "  'Violin 2': 'Violin2',\n",
    "  'Piano RH': 'Piano Right',\n",
    "  'Piano LH': 'Piano Left',\n",
    "  'Piano RH (Playback)': 'Piano Right',\n",
    "  'Piano LH (Playback)': 'Piano Left',\n",
    "  'Violino I.': 'Violin1',\n",
    "  'Viola.': 'Viola',\n",
    "  'Violin 1 arco': 'Violin1',\n",
    "  'Cello arco': 'Cello',\n",
    "  'Cello pizz': 'Cello',\n",
    "  'Violino II.': 'Violin2',\n",
    "  'Violin2 Pizz': 'Violin2',\n",
    "  'Violin 2 pizz': 'Violin2',\n",
    "  'Violin 2 arco': 'Violin2',\n",
    "  'Cello (Playback)': 'Cello',\n",
    "  'Viola pizz': 'Viola',\n",
    "  'Viola Arco': 'Viola',\n",
    "  'Violincello': 'Cello',\n",
    "  'Violoncello.': 'Cello',\n",
    "  'Violin1 Sub': 'Violin1',\n",
    "  'Viola arco': 'Viola',\n",
    "  'Viola Pizz': 'Viola',\n",
    "  'Violin1 Pizz': 'Violin1',\n",
    "  'Viola Sub': 'Viola',\n",
    "  'Violin Pizz': 'Violin1',\n",
    "  'Violin (Playback)': 'Violin1',\n",
    "  'Viola (Playback)': 'Viola',\n",
    "  'Acoustic Grand Piano': 'Piano',\n",
    "  'Pianoforte': 'Piano',\n",
    "  'Violin': 'Violin1',\n",
    "  }\n",
    "\n",
    "  to_ignore = [\n",
    "      'Instrument17', 'Instrument18', 'Instrument19', \n",
    "      '--------------------------------------', 'Johann Sebastian Bach  (1685-1750)'\n",
    "  ]\n",
    "\n",
    "  for track in mid.tracks:\n",
    "    if track.name not in to_ignore:\n",
    "      if track.name in to_normalize.keys():\n",
    "        normalized_name = to_normalize[track.name]\n",
    "        if normalized_name in parts.keys() and parts[normalized_name] is None:\n",
    "          parts[normalized_name] = track.pianoroll\n",
    "          programs[normalized_name] = track.program\n",
    "      elif track.name in parts.keys() and parts[track.name] is None:\n",
    "        parts[track.name] = track.pianoroll\n",
    "        programs[track.name] = track.program\n",
    "      if track.pianoroll.shape[0] > 0:\n",
    "        empty_array = np.zeros_like(track.pianoroll)\n",
    "\n",
    "  for k,v in parts.items():\n",
    "    if v is None:\n",
    "      parts[k] = empty_array.copy()\n",
    "\n",
    "  return parts, programs"
   ],
   "metadata": {
    "id": "XaIL9j20r-ag",
    "pycharm": {
     "name": "#%%\n"
    }
   },
   "execution_count": null,
   "outputs": []
  },
  {
   "cell_type": "code",
   "source": [
    "input_path = ''\n",
    "raw_path = os.path.join(input_path, '00_raw')\n",
    "preprocess_path = os.path.join(input_path, '01_preprocessed')\n",
    "preparation_path = os.path.join(input_path, '02_preparation')\n",
    "\n",
    "preprocess_df = pd.read_csv(os.path.join(preprocess_path, 'preprocessed_dataset.csv'))\n",
    "mid_files_to_use = preprocess_df.mid_name.to_list()\n",
    "\n",
    "all_composer_path = glob.glob(f\"{raw_path}/*\")\n",
    "\n",
    "all_parts = []\n",
    "all_programs = []\n",
    "\n",
    "for composer_path in all_composer_path:\n",
    "    composer_mid_files_path = glob.glob(f\"{composer_path}/*.mid\")\n",
    "    for mid_file_path in composer_mid_files_path:\n",
    "      try:\n",
    "        if mid_file_path.split('/')[-1] in mid_files_to_use: #and len(all_parts) < 3\n",
    "          mid = pypianoroll.read(os.path.join(mid_file_path))\n",
    "          parts, programs = create_parts(mid)\n",
    "          tensor_parts = torch.tensor([parts['Piano'], parts['Piano Right'], parts['Piano Left'], parts['Violin1'], parts['Violin2'], parts['Viola'], parts['Cello']])\n",
    "          all_parts.append(tensor_parts)\n",
    "          all_programs.append(programs)\n",
    "      except Exception as e:\n",
    "        print(e)\n",
    "        print('problem', mid_file_path) \n",
    "\n",
    "del preprocess_df\n",
    "del mid_files_to_use\n",
    "del all_composer_path\n",
    "gc.collect()"
   ],
   "metadata": {
    "colab": {
     "base_uri": "https://localhost:8080/"
    },
    "id": "r00vVz8usEaf",
    "executionInfo": {
     "status": "ok",
     "timestamp": 1662380345514,
     "user_tz": 180,
     "elapsed": 97893,
     "user": {
      "displayName": "Miguel",
      "userId": "03341687265919124027"
     }
    },
    "outputId": "98025342-31c6-4b98-d0b8-6b5dd12beccd",
    "pycharm": {
     "name": "#%%\n"
    }
   },
   "execution_count": null,
   "outputs": [
    {
     "output_type": "stream",
     "name": "stderr",
     "text": [
      "/usr/local/lib/python3.7/dist-packages/ipykernel_launcher.py:23: UserWarning: Creating a tensor from a list of numpy.ndarrays is extremely slow. Please consider converting the list to a single numpy.ndarray with numpy.array() before converting to a tensor. (Triggered internally at  ../torch/csrc/utils/tensor_new.cpp:201.)\n",
      "/usr/local/lib/python3.7/dist-packages/pretty_midi/pretty_midi.py:101: RuntimeWarning: Tempo, Key or Time signature change events found on non-zero tracks.  This is not a valid type 0 or type 1 MIDI file.  Tempo, Key or Time Signature may be wrong.\n",
      "  RuntimeWarning)\n"
     ]
    },
    {
     "output_type": "execute_result",
     "data": {
      "text/plain": [
       "0"
      ]
     },
     "metadata": {},
     "execution_count": 4
    }
   ]
  },
  {
   "cell_type": "code",
   "source": [
    "\n",
    "data_concat = torch.hstack(all_parts)\n",
    "del (all_parts)\n",
    "gc.collect()\n",
    "data_concat = data_concat[:, :, 24:96]\n",
    "gc.collect()\n"
   ],
   "metadata": {
    "id": "LyKhb5yjiyKY",
    "colab": {
     "base_uri": "https://localhost:8080/"
    },
    "executionInfo": {
     "status": "ok",
     "timestamp": 1662380345901,
     "user_tz": 180,
     "elapsed": 397,
     "user": {
      "displayName": "Miguel",
      "userId": "03341687265919124027"
     }
    },
    "outputId": "639dd0ef-20e2-4f90-fb09-fd99563f348a",
    "pycharm": {
     "name": "#%%\n"
    }
   },
   "execution_count": null,
   "outputs": [
    {
     "output_type": "execute_result",
     "data": {
      "text/plain": [
       "0"
      ]
     },
     "metadata": {},
     "execution_count": 5
    }
   ]
  },
  {
   "cell_type": "code",
   "source": [
    "\n",
    "data_bin = data_concat.clone()\n",
    "del (data_concat)\n",
    "gc.collect()\n"
   ],
   "metadata": {
    "colab": {
     "base_uri": "https://localhost:8080/"
    },
    "id": "UN0hbXnFl_bF",
    "executionInfo": {
     "status": "ok",
     "timestamp": 1662380346153,
     "user_tz": 180,
     "elapsed": 253,
     "user": {
      "displayName": "Miguel",
      "userId": "03341687265919124027"
     }
    },
    "outputId": "01267549-73e5-43d5-b0d1-e73434ac0fb5",
    "pycharm": {
     "name": "#%%\n"
    }
   },
   "execution_count": null,
   "outputs": [
    {
     "output_type": "execute_result",
     "data": {
      "text/plain": [
       "22"
      ]
     },
     "metadata": {},
     "execution_count": 6
    }
   ]
  },
  {
   "cell_type": "code",
   "source": [
    "data_bin[data_bin > 0.2] = 1.0\n",
    "data_bin = data_bin.type(torch.float16)\n"
   ],
   "metadata": {
    "id": "MKaktr73kip_",
    "pycharm": {
     "name": "#%%\n"
    }
   },
   "execution_count": null,
   "outputs": []
  },
  {
   "cell_type": "code",
   "source": [
    "# gan tensor\n",
    "torch.save(data_bin, os.path.join(preparation_path, 'tensor.pt'))\n"
   ],
   "metadata": {
    "id": "Z8uIQNGFkoA-",
    "pycharm": {
     "name": "#%%\n"
    }
   },
   "execution_count": null,
   "outputs": []
  }
 ]
}