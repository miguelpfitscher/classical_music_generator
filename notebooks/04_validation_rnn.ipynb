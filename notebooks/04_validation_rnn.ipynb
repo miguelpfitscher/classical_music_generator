{
 "cells": [
  {
   "cell_type": "code",
   "execution_count": null,
   "outputs": [],
   "source": [
    "!apt-get update -qq && apt-get install -qq libfluidsynth1 fluid-soundfont-gm build-essential libasound2-dev libjack-dev\n",
    "!pip install pypianoroll"
   ],
   "metadata": {
    "collapsed": false
   }
  },
  {
   "cell_type": "code",
   "execution_count": 1,
   "metadata": {
    "collapsed": true
   },
   "outputs": [],
   "source": [
    "import torch\n",
    "import torch.nn as nn\n",
    "from torch.utils.data import DataLoader, Dataset\n",
    "import pypianoroll\n",
    "import os\n",
    "from IPython.display import Audio\n",
    "from random import randrange\n",
    "\n",
    "device = 'cpu'"
   ]
  },
  {
   "cell_type": "code",
   "execution_count": 2,
   "outputs": [],
   "source": [
    "\n",
    "class MusicDataset(Dataset):\n",
    "    def __init__(self, data, seq_length=50):\n",
    "        self.data = data\n",
    "        self.seq_length = seq_length\n",
    "\n",
    "    def __getitem__(self, index):\n",
    "        train_seq = self.data[:, index * self.seq_length: (index + 1) * self.seq_length, :]\n",
    "        target_seq = self.data[:, (index + 1) * self.seq_length, :]\n",
    "        return train_seq, target_seq\n",
    "\n",
    "    def __len__(self):\n",
    "        return int(self.data.size(1) / self.seq_length)\n",
    "\n",
    "class MusicGenerationRNN(nn.Module):\n",
    "    def __init__(self, input_size, hidden_size, output_size, batch_size=32, n_layers=1):\n",
    "        super(MusicGenerationRNN, self).__init__()\n",
    "        self.input_size = input_size\n",
    "        self.hidden_size = hidden_size\n",
    "        self.output_size = output_size\n",
    "        self.n_layers = n_layers\n",
    "        self.batch_size = batch_size\n",
    "        self.gru = nn.GRU(input_size, hidden_size, n_layers)\n",
    "        self.linear = nn.Linear(hidden_size * n_layers, output_size)\n",
    "\n",
    "    def forward(self, input, hidden):\n",
    "        input = input.permute(0, 2, 1, 3)\n",
    "        input = input.flatten(2, 3)\n",
    "        input = input.permute(1, 0, 2)\n",
    "        _, hidden = self.gru(input, hidden)\n",
    "        h_n = hidden.permute(1, 0, 2)\n",
    "        h_n = h_n.contiguous().flatten(1, 2)\n",
    "        output = self.linear(h_n)\n",
    "        return output, hidden\n",
    "\n",
    "    def init_hidden(self, batch_size):\n",
    "        return torch.zeros(self.n_layers, batch_size, self.hidden_size).to(device)\n"
   ],
   "metadata": {
    "collapsed": false
   }
  },
  {
   "cell_type": "code",
   "execution_count": 4,
   "outputs": [],
   "source": [
    "input_path = os.path.join('..', 'data')\n",
    "preparation_path = os.path.join(input_path, '02_preparation')\n",
    "model_path = os.path.join(input_path, '03_model', 'rnn')\n",
    "validation_path = os.path.join(input_path, '04_validation', 'rnn')\n"
   ],
   "metadata": {
    "collapsed": false
   }
  },
  {
   "cell_type": "code",
   "execution_count": 5,
   "outputs": [],
   "source": [
    "torch_tensor = torch.load(os.path.join(preparation_path, 'tensor.pt'))\n",
    "torch_tensor = torch_tensor.type(torch.float32)\n",
    "\n",
    "test_dataset = MusicDataset(torch_tensor[:, int(torch_tensor.shape[1] * 0.8):, :], seq_length=64)\n",
    "test_loader = DataLoader(test_dataset, batch_size=64,\n",
    "                         shuffle=True)\n",
    "\n",
    "model = torch.load(os.path.join(model_path, 'model_torch.pt'))\n",
    "model.to(device)"
   ],
   "metadata": {
    "collapsed": false
   }
  },
  {
   "cell_type": "code",
   "execution_count": 6,
   "outputs": [],
   "source": [
    "\n",
    "def evaluate(model, prime_seq, predict_len = 100):\n",
    "    hidden = model.init_hidden(batch_size = 1)\n",
    "\n",
    "    predictions = torch.zeros((7, predict_len + prime_seq.size()[1], 72)).to(device)\n",
    "\n",
    "    predictions[:, 0:prime_seq.size()[1], :] = prime_seq[:, :, :72]\n",
    "    curr_predict_id = prime_seq.size()[1]\n",
    "    prime_seq = prime_seq.unsqueeze(0)\n",
    "\n",
    "    _, hidden = model(prime_seq, hidden)\n",
    "\n",
    "    input = prime_seq[:, :, -1:, :]\n",
    "\n",
    "    while curr_predict_id < predictions.size()[1]:\n",
    "      scores, hidden = model(input, hidden)\n",
    "      scores[scores < 0.10] = 0.0\n",
    "\n",
    "      scores = scores.view(7, 72)\n",
    "      predicted = torch.zeros_like(scores)\n",
    "\n",
    "      for i in range(7):\n",
    "        instrument_predicted_n_notes = torch.nonzero(scores[i,:]).shape[0]\n",
    "        if instrument_predicted_n_notes > 0:\n",
    "          instrument_predicted_n_notes = randrange(3)\n",
    "          topk, indices = torch.topk(scores[i, :], instrument_predicted_n_notes)\n",
    "          predicted[i, indices] = 1\n",
    "\n",
    "      input = predicted.clone()\n",
    "      input = input.unsqueeze(0).unsqueeze(2)\n",
    "\n",
    "      predictions[:, curr_predict_id, :] = predicted\n",
    "      curr_predict_id += 1\n",
    "\n",
    "    return predictions\n",
    "\n",
    "def generate_music():\n",
    "    dataset = test_loader.dataset\n",
    "    n_samples = len(dataset)\n",
    "    test, target = dataset[randrange(n_samples)]\n",
    "    prime_seq = test\n",
    "    predictions = evaluate(model, prime_seq, predict_len = 500)\n",
    "    predictions = (predictions * 127).type(torch.int8)\n",
    "\n",
    "    piano_track = pypianoroll.StandardTrack(name = 'Piano', program = 0, is_drum = False, pianoroll = predictions[0, :, :])\n",
    "    piano_track_right = pypianoroll.StandardTrack(name = 'Piano Right', program = 0, is_drum = False, pianoroll = predictions[1, :, :].detach().cpu().numpy())\n",
    "    piano_track_left = pypianoroll.StandardTrack(name = 'Piano Left', program = 0, is_drum = False, pianoroll = predictions[2, :, :].detach().cpu().numpy())\n",
    "    violin1_track = pypianoroll.StandardTrack(name = 'Violin1', program = 41, is_drum = False, pianoroll = predictions[3, :, :].detach().cpu().numpy())\n",
    "    violin2_track = pypianoroll.StandardTrack(name = 'Violin2', program = 41, is_drum = False, pianoroll = predictions[4, :, :].detach().cpu().numpy())\n",
    "    viola_track = pypianoroll.StandardTrack(name = 'Viola', program = 42, is_drum = False, pianoroll = predictions[5, :, :].detach().cpu().numpy())\n",
    "    cello_track = pypianoroll.StandardTrack(name = 'Cello', program = 43, is_drum = False, pianoroll = predictions[6, :, :].detach().cpu().numpy())\n",
    "\n",
    "    generated_multitrack = pypianoroll.Multitrack(name = 'Generated', resolution = 4, tracks = [piano_track,\n",
    "                                                                                                piano_track_right,\n",
    "                                                                                                piano_track_left,\n",
    "                                                                                                violin1_track,\n",
    "                                                                                                violin2_track,\n",
    "                                                                                                viola_track,\n",
    "                                                                                                cello_track,\n",
    "                                                                                              ])\n",
    "\n",
    "    generated_multitrack.plot()\n",
    "    return generated_multitrack\n",
    "\n",
    "def create_and_write(i):\n",
    "    generated_multitrack = generate_music()\n",
    "    pypianoroll.write(os.path.join(validation_path, f'rnn_track_{i}.mid'), generated_multitrack)"
   ],
   "metadata": {
    "collapsed": false
   }
  },
  {
   "cell_type": "code",
   "execution_count": null,
   "outputs": [],
   "source": [
    "for j in range(0, 3):\n",
    "    create_and_write(j)\n"
   ],
   "metadata": {
    "collapsed": false
   }
  }
 ],
 "metadata": {
  "kernelspec": {
   "display_name": "Python 3",
   "language": "python",
   "name": "python3"
  },
  "language_info": {
   "codemirror_mode": {
    "name": "ipython",
    "version": 2
   },
   "file_extension": ".py",
   "mimetype": "text/x-python",
   "name": "python",
   "nbconvert_exporter": "python",
   "pygments_lexer": "ipython2",
   "version": "2.7.6"
  }
 },
 "nbformat": 4,
 "nbformat_minor": 0
}
