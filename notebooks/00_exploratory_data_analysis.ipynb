{
 "cells": [
  {
   "cell_type": "code",
   "execution_count": 1,
   "metadata": {
    "colab": {
     "base_uri": "https://localhost:8080/"
    },
    "executionInfo": {
     "elapsed": 59715,
     "status": "ok",
     "timestamp": 1661625873559,
     "user": {
      "displayName": "Miguel",
      "userId": "03341687265919124027"
     },
     "user_tz": 180
    },
    "id": "UsrFiwuXVm3_",
    "outputId": "5a49175d-505c-463b-da9d-493be1c79d7b",
    "pycharm": {
     "name": "#%%\n"
    }
   },
   "outputs": [
    {
     "output_type": "stream",
     "name": "stdout",
     "text": [
      "Selecting previously unselected package fluid-soundfont-gm.\n",
      "(Reading database ... 155676 files and directories currently installed.)\n",
      "Preparing to unpack .../fluid-soundfont-gm_3.1-5.1_all.deb ...\n",
      "Unpacking fluid-soundfont-gm (3.1-5.1) ...\n",
      "Selecting previously unselected package libfluidsynth1:amd64.\n",
      "Preparing to unpack .../libfluidsynth1_1.1.9-1_amd64.deb ...\n",
      "Unpacking libfluidsynth1:amd64 (1.1.9-1) ...\n",
      "Setting up fluid-soundfont-gm (3.1-5.1) ...\n",
      "Setting up libfluidsynth1:amd64 (1.1.9-1) ...\n",
      "Processing triggers for libc-bin (2.27-3ubuntu1.5) ...\n",
      "\u001B[K     |████████████████████████████████| 5.6 MB 5.3 MB/s \n",
      "\u001B[K     |████████████████████████████████| 51 kB 6.9 MB/s \n",
      "\u001B[?25h  Building wheel for pretty-midi (setup.py) ... \u001B[?25l\u001B[?25hdone\n",
      "Looking in indexes: https://pypi.org/simple, https://us-python.pkg.dev/colab-wheels/public/simple/\n",
      "Requirement already satisfied: music21 in /usr/local/lib/python3.7/dist-packages (5.5.0)\n",
      "Looking in indexes: https://pypi.org/simple, https://us-python.pkg.dev/colab-wheels/public/simple/\n",
      "Collecting pypianoroll\n",
      "  Downloading pypianoroll-1.0.4-py3-none-any.whl (26 kB)\n",
      "Requirement already satisfied: matplotlib>=1.5 in /usr/local/lib/python3.7/dist-packages (from pypianoroll) (3.2.2)\n",
      "Requirement already satisfied: numpy>=1.12.0 in /usr/local/lib/python3.7/dist-packages (from pypianoroll) (1.21.6)\n",
      "Requirement already satisfied: pretty-midi>=0.2.8 in /usr/local/lib/python3.7/dist-packages (from pypianoroll) (0.2.9)\n",
      "Requirement already satisfied: scipy>=1.0.0 in /usr/local/lib/python3.7/dist-packages (from pypianoroll) (1.7.3)\n",
      "Requirement already satisfied: pyparsing!=2.0.4,!=2.1.2,!=2.1.6,>=2.0.1 in /usr/local/lib/python3.7/dist-packages (from matplotlib>=1.5->pypianoroll) (3.0.9)\n",
      "Requirement already satisfied: kiwisolver>=1.0.1 in /usr/local/lib/python3.7/dist-packages (from matplotlib>=1.5->pypianoroll) (1.4.4)\n",
      "Requirement already satisfied: python-dateutil>=2.1 in /usr/local/lib/python3.7/dist-packages (from matplotlib>=1.5->pypianoroll) (2.8.2)\n",
      "Requirement already satisfied: cycler>=0.10 in /usr/local/lib/python3.7/dist-packages (from matplotlib>=1.5->pypianoroll) (0.11.0)\n",
      "Requirement already satisfied: typing-extensions in /usr/local/lib/python3.7/dist-packages (from kiwisolver>=1.0.1->matplotlib>=1.5->pypianoroll) (4.1.1)\n",
      "Requirement already satisfied: six in /usr/local/lib/python3.7/dist-packages (from pretty-midi>=0.2.8->pypianoroll) (1.15.0)\n",
      "Requirement already satisfied: mido>=1.1.16 in /usr/local/lib/python3.7/dist-packages (from pretty-midi>=0.2.8->pypianoroll) (1.2.10)\n",
      "Installing collected packages: pypianoroll\n",
      "Successfully installed pypianoroll-1.0.4\n",
      "Looking in indexes: https://pypi.org/simple, https://us-python.pkg.dev/colab-wheels/public/simple/\n",
      "Requirement already satisfied: mido in /usr/local/lib/python3.7/dist-packages (1.2.10)\n"
     ]
    }
   ],
   "source": [
    "!apt-get update -qq && apt-get install -qq libfluidsynth1 fluid-soundfont-gm build-essential libasound2-dev libjack-dev\n",
    "!pip install -qU pyfluidsynth pretty_midi\n",
    "!pip install music21\n",
    "!pip install pypianoroll\n",
    "!pip install mido"
   ]
  },
  {
   "cell_type": "code",
   "execution_count": 2,
   "metadata": {
    "colab": {
     "base_uri": "https://localhost:8080/"
    },
    "executionInfo": {
     "elapsed": 279630,
     "status": "ok",
     "timestamp": 1661626153185,
     "user": {
      "displayName": "Miguel",
      "userId": "03341687265919124027"
     },
     "user_tz": 180
    },
    "id": "Pj2WH6yQVBNV",
    "outputId": "1dff8d8e-2429-4265-a642-09c7e9465ebb",
    "pycharm": {
     "name": "#%%\n"
    }
   },
   "outputs": [
    {
     "output_type": "stream",
     "name": "stdout",
     "text": [
      "Mounted at /content/drive/\n"
     ]
    }
   ],
   "source": [
    "from mido import MidiFile\n",
    "from music21 import converter, instrument, note, chord, stream\n",
    "import pypianoroll\n",
    "from google.colab import drive\n",
    "from IPython.display import Audio\n",
    "import os\n",
    "import numpy as np\n",
    "import glob\n",
    "import pandas as pd\n",
    "from collections import Counter\n",
    "import seaborn as sns\n",
    "import matplotlib.pyplot as plt\n",
    "sns.set_theme(style=\"darkgrid\")\n",
    "\n",
    "drive.mount('/content/drive/')\n"
   ]
  },
  {
   "cell_type": "code",
   "source": [
    "def create_parts(mid_file):\n",
    "  parts = {}\n",
    "\n",
    "  to_normalize = {\n",
    "  'Right': 'Piano Right',\n",
    "  'Left': 'Piano Left',\n",
    "  'Grand Piano': 'Piano',\n",
    "  'Violino I': 'Violin1',\n",
    "  'Violino II': 'Violin2',\n",
    "  '1st Violin': 'Violin1',\n",
    "  '2nd Violin': 'Violin2',\n",
    "  'Solo Cello': 'Cello',\n",
    "  'Violoncello': 'Cello',\n",
    "  'Cello Pizz': 'Cello',\n",
    "  'Six Suites for Solo Cello': 'Cello',\n",
    "  'Violin 1': 'Violin1',\n",
    "  'Violin 2': 'Violin2',\n",
    "  'Piano RH': 'Piano Right',\n",
    "  'Piano LH': 'Piano Left',\n",
    "  'Piano RH (Playback)': 'Piano Right',\n",
    "  'Piano LH (Playback)': 'Piano Left',\n",
    "  'Violino I.': 'Violin1',\n",
    "  'Viola.': 'Viola',\n",
    "  'Violin 1 arco': 'Violin1',\n",
    "  'Cello arco': 'Cello',\n",
    "  'Cello pizz': 'Cello',\n",
    "  'Violino II.': 'Violin2',\n",
    "  'Violin2 Pizz': 'Violin2',\n",
    "  'Violin 2 pizz': 'Violin2',\n",
    "  'Violin 2 arco': 'Violin2',\n",
    "  'Cello (Playback)': 'Cello',\n",
    "  'Viola pizz': 'Viola',\n",
    "  'Viola Arco': 'Viola',\n",
    "  'Violincello': 'Cello',\n",
    "  'Violoncello.': 'Cello',\n",
    "  'Violin1 Sub': 'Violin1',\n",
    "  'Viola arco': 'Viola',\n",
    "  'Viola Pizz': 'Viola',\n",
    "  'Violin1 Pizz': 'Violin1',\n",
    "  'Viola Sub': 'Viola',\n",
    "  'Violin Pizz': 'Violin1',\n",
    "  'Violin (Playback)': 'Violin1',\n",
    "  'Viola (Playback)': 'Viola',\n",
    "  'Acoustic Grand Piano': 'Piano',\n",
    "  'Pianoforte': 'Piano',\n",
    "  'Violin': 'Violin1',\n",
    "  }\n",
    "\n",
    "  to_ignore = [\n",
    "      'Instrument17', 'Instrument18', 'Instrument19', \n",
    "      '--------------------------------------', 'Johann Sebastian Bach  (1685-1750)'\n",
    "  ]\n",
    "\n",
    "  for track in mid.tracks:\n",
    "    if track.name not in to_ignore:\n",
    "      if track.name in to_normalize.keys():\n",
    "        normalized_name = to_normalize[track.name]\n",
    "        if normalized_name not in parts.keys():\n",
    "          parts[normalized_name] = track.pianoroll\n",
    "      else:\n",
    "        parts[track.name] = track.pianoroll\n",
    "    \n",
    "  return parts"
   ],
   "metadata": {
    "id": "dmj5Eq7jdUKc",
    "executionInfo": {
     "status": "ok",
     "timestamp": 1661626153186,
     "user_tz": 180,
     "elapsed": 7,
     "user": {
      "displayName": "Miguel",
      "userId": "03341687265919124027"
     }
    },
    "pycharm": {
     "name": "#%%\n"
    }
   },
   "execution_count": 3,
   "outputs": []
  },
  {
   "cell_type": "code",
   "source": [
    "to_normalize = {\n",
    "  'Right': 'Piano Right',\n",
    "  'Left': 'Piano Left',\n",
    "  'Grand Piano': 'Piano',\n",
    "  'Violino I': 'Violin1',\n",
    "  'Violino II': 'Violin2',\n",
    "  '1st Violin': 'Violin1',\n",
    "  '2nd Violin': 'Violin2',\n",
    "  'Solo Cello': 'Cello',\n",
    "  'Violoncello': 'Cello',\n",
    "  'Cello Pizz': 'Cello',\n",
    "  'Six Suites for Solo Cello': 'Cello',\n",
    "  'Violin 1': 'Violin1',\n",
    "  'Violin 2': 'Violin2',\n",
    "  'Piano RH': 'Piano Right',\n",
    "  'Piano LH': 'Piano Left',\n",
    "  'Piano RH (Playback)': 'Piano Right',\n",
    "  'Piano LH (Playback)': 'Piano Left',\n",
    "  'Violino I.': 'Violin1',\n",
    "  'Viola.': 'Viola',\n",
    "  'Violin 1 arco': 'Violin1',\n",
    "  'Cello arco': 'Cello',\n",
    "  'Cello pizz': 'Cello',\n",
    "  'Violino II.': 'Violin2',\n",
    "  'Violin2 Pizz': 'Violin2',\n",
    "  'Violin 2 pizz': 'Violin2',\n",
    "  'Violin 2 arco': 'Violin2',\n",
    "  'Cello (Playback)': 'Cello',\n",
    "  'Viola pizz': 'Viola',\n",
    "  'Viola Arco': 'Viola',\n",
    "  'Violincello': 'Cello',\n",
    "  'Violoncello.': 'Cello',\n",
    "  'Violin1 Sub': 'Violin1',\n",
    "  'Viola arco': 'Viola',\n",
    "  'Viola Pizz': 'Viola',\n",
    "  'Violin1 Pizz': 'Violin1',\n",
    "  'Viola Sub': 'Viola',\n",
    "  'Violin Pizz': 'Violin1',\n",
    "  'Violin (Playback)': 'Violin1',\n",
    "  'Viola (Playback)': 'Viola',\n",
    "  'Acoustic Grand Piano': 'Piano',\n",
    "  'Pianoforte': 'Piano',\n",
    "  'Violin': 'Violin1',\n",
    "  }\n",
    "print(to_normalize)"
   ],
   "metadata": {
    "colab": {
     "base_uri": "https://localhost:8080/"
    },
    "id": "dkvcGocooqzU",
    "executionInfo": {
     "status": "ok",
     "timestamp": 1661626153186,
     "user_tz": 180,
     "elapsed": 6,
     "user": {
      "displayName": "Miguel",
      "userId": "03341687265919124027"
     }
    },
    "outputId": "5d41c61c-123f-4597-93a4-47be90ad5f03",
    "pycharm": {
     "name": "#%%\n"
    }
   },
   "execution_count": 4,
   "outputs": [
    {
     "output_type": "stream",
     "name": "stdout",
     "text": [
      "{'Right': 'Piano Right', 'Left': 'Piano Left', 'Grand Piano': 'Piano', 'Violino I': 'Violin1', 'Violino II': 'Violin2', '1st Violin': 'Violin1', '2nd Violin': 'Violin2', 'Solo Cello': 'Cello', 'Violoncello': 'Cello', 'Cello Pizz': 'Cello', 'Six Suites for Solo Cello': 'Cello', 'Violin 1': 'Violin1', 'Violin 2': 'Violin2', 'Piano RH': 'Piano Right', 'Piano LH': 'Piano Left', 'Piano RH (Playback)': 'Piano Right', 'Piano LH (Playback)': 'Piano Left', 'Violino I.': 'Violin1', 'Viola.': 'Viola', 'Violin 1 arco': 'Violin1', 'Cello arco': 'Cello', 'Cello pizz': 'Cello', 'Violino II.': 'Violin2', 'Violin2 Pizz': 'Violin2', 'Violin 2 pizz': 'Violin2', 'Violin 2 arco': 'Violin2', 'Cello (Playback)': 'Cello', 'Viola pizz': 'Viola', 'Viola Arco': 'Viola', 'Violincello': 'Cello', 'Violoncello.': 'Cello', 'Violin1 Sub': 'Violin1', 'Viola arco': 'Viola', 'Viola Pizz': 'Viola', 'Violin1 Pizz': 'Violin1', 'Viola Sub': 'Viola', 'Violin Pizz': 'Violin1', 'Violin (Playback)': 'Violin1', 'Viola (Playback)': 'Viola', 'Acoustic Grand Piano': 'Piano', 'Pianoforte': 'Piano', 'Violin': 'Violin1'}\n"
     ]
    }
   ]
  },
  {
   "cell_type": "code",
   "execution_count": 5,
   "metadata": {
    "id": "TBqZN40VVP6Z",
    "executionInfo": {
     "status": "ok",
     "timestamp": 1661626153186,
     "user_tz": 180,
     "elapsed": 4,
     "user": {
      "displayName": "Miguel",
      "userId": "03341687265919124027"
     }
    },
    "pycharm": {
     "name": "#%%\n"
    }
   },
   "outputs": [],
   "source": [
    "\n",
    "input_path = ''\n"
   ]
  },
  {
   "cell_type": "code",
   "source": [
    "raw_path = os.path.join(input_path, '00_raw')\n",
    "\n",
    "all_composer_path = glob.glob(f\"{raw_path}/*\")\n",
    "\n",
    "all_parts = []\n",
    "\n",
    "for composer_path in all_composer_path:\n",
    "    composer_mid_files_path = glob.glob(f\"{composer_path}/*.mid\")\n",
    "    for mid_file_path in composer_mid_files_path:\n",
    "      try:\n",
    "        mid = pypianoroll.read(os.path.join(mid_file_path))\n",
    "        parts = create_parts(mid)\n",
    "        all_parts.append({'composer_name': composer_path.split('/')[-1], 'mid_name': mid_file_path.split('/')[-1], 'track_names': list(parts.keys()), 'parts': parts})\n",
    "      except:\n",
    "        print('problem', mid_file_path)  \n",
    "      "
   ],
   "metadata": {
    "colab": {
     "base_uri": "https://localhost:8080/"
    },
    "id": "vo0z7-_PbLF9",
    "executionInfo": {
     "status": "ok",
     "timestamp": 1661626259593,
     "user_tz": 180,
     "elapsed": 106410,
     "user": {
      "displayName": "Miguel",
      "userId": "03341687265919124027"
     }
    },
    "outputId": "1ea8fbe0-e4f0-452a-b990-6c4ff64d52f8",
    "pycharm": {
     "name": "#%%\n"
    }
   },
   "execution_count": 6,
   "outputs": [
    {
     "output_type": "stream",
     "name": "stderr",
     "text": [
      "/usr/local/lib/python3.7/dist-packages/pretty_midi/pretty_midi.py:101: RuntimeWarning: Tempo, Key or Time signature change events found on non-zero tracks.  This is not a valid type 0 or type 1 MIDI file.  Tempo, Key or Time Signature may be wrong.\n",
      "  RuntimeWarning)\n"
     ]
    },
    {
     "output_type": "stream",
     "name": "stdout",
     "text": [
      "problem /content/drive/MyDrive/estudo/pos/Projeto_final/data/00_raw/Bach/2227_fugue6.mid\n",
      "problem /content/drive/MyDrive/estudo/pos/Projeto_final/data/00_raw/Bach/2194_prelude13.mid\n",
      "problem /content/drive/MyDrive/estudo/pos/Projeto_final/data/00_raw/Bach/2230_prelude20.mid\n",
      "problem /content/drive/MyDrive/estudo/pos/Projeto_final/data/00_raw/Bach/2211_fugue12.mid\n",
      "problem /content/drive/MyDrive/estudo/pos/Projeto_final/data/00_raw/Bach/2305_prelude14.mid\n",
      "problem /content/drive/MyDrive/estudo/pos/Projeto_final/data/00_raw/Bach/2292_prelude19.mid\n",
      "problem /content/drive/MyDrive/estudo/pos/Projeto_final/data/00_raw/Bach/2310_prelude15.mid\n"
     ]
    }
   ]
  },
  {
   "cell_type": "code",
   "source": [
    "parts_df = pd.DataFrame(all_parts)"
   ],
   "metadata": {
    "id": "pX8r4CAIgdkp",
    "executionInfo": {
     "status": "ok",
     "timestamp": 1661626259593,
     "user_tz": 180,
     "elapsed": 10,
     "user": {
      "displayName": "Miguel",
      "userId": "03341687265919124027"
     }
    },
    "pycharm": {
     "name": "#%%\n"
    }
   },
   "execution_count": 7,
   "outputs": []
  },
  {
   "cell_type": "code",
   "source": [
    "parts_df.head(1).parts[0]['Violin2'][60]"
   ],
   "metadata": {
    "colab": {
     "base_uri": "https://localhost:8080/"
    },
    "id": "z8hSEmpiqiZx",
    "executionInfo": {
     "status": "ok",
     "timestamp": 1661626731237,
     "user_tz": 180,
     "elapsed": 217,
     "user": {
      "displayName": "Miguel",
      "userId": "03341687265919124027"
     }
    },
    "outputId": "44cefdc0-2cf2-40f4-f526-638717c4d0dc",
    "pycharm": {
     "name": "#%%\n"
    }
   },
   "execution_count": 48,
   "outputs": [
    {
     "output_type": "execute_result",
     "data": {
      "text/plain": [
       "array([ 0,  0,  0,  0,  0,  0,  0,  0,  0,  0,  0,  0,  0,  0,  0,  0,  0,\n",
       "        0,  0,  0,  0,  0,  0,  0,  0,  0,  0,  0,  0,  0,  0,  0,  0,  0,\n",
       "        0,  0,  0,  0,  0,  0,  0,  0,  0,  0,  0,  0,  0,  0,  0,  0,  0,\n",
       "        0,  0,  0,  0,  0,  0,  0,  0,  0, 49,  0,  0,  0,  0,  0,  0,  0,\n",
       "        0,  0,  0,  0,  0,  0,  0,  0,  0,  0,  0,  0,  0,  0,  0,  0,  0,\n",
       "        0,  0,  0,  0,  0,  0,  0,  0,  0,  0,  0,  0,  0,  0,  0,  0,  0,\n",
       "        0,  0,  0,  0,  0,  0,  0,  0,  0,  0,  0,  0,  0,  0,  0,  0,  0,\n",
       "        0,  0,  0,  0,  0,  0,  0,  0,  0], dtype=uint8)"
      ]
     },
     "metadata": {},
     "execution_count": 48
    }
   ]
  },
  {
   "cell_type": "code",
   "source": [
    "parts_df[parts_df.track_names.str.contains('Violin2',regex=False)]"
   ],
   "metadata": {
    "colab": {
     "base_uri": "https://localhost:8080/",
     "height": 1000
    },
    "id": "pjuV-gDFVWSf",
    "executionInfo": {
     "status": "ok",
     "timestamp": 1661626280988,
     "user_tz": 180,
     "elapsed": 21404,
     "user": {
      "displayName": "Miguel",
      "userId": "03341687265919124027"
     }
    },
    "outputId": "6e5774c7-66be-480f-9ef8-3aa71f4be9e9",
    "pycharm": {
     "name": "#%%\n"
    }
   },
   "execution_count": 8,
   "outputs": [
    {
     "output_type": "execute_result",
     "data": {
      "text/plain": [
       "    composer_name           mid_name  \\\n",
       "0          Dvorak  1919_dvqt10m4.mid   \n",
       "1          Dvorak  1923_dvqt10m4.mid   \n",
       "3          Dvorak   1916_dvq10m1.mid   \n",
       "4          Dvorak  1922_dvqt10m3.mid   \n",
       "7          Dvorak  1918_dvqt10m3.mid   \n",
       "9          Brahms    2155_br18m2.mid   \n",
       "14         Brahms    2157_br18m4.mid   \n",
       "24         Brahms    2156_br18m3.mid   \n",
       "25         Brahms    2154_br18m1.mid   \n",
       "41          Haydn  2104_op64n5_1.mid   \n",
       "42          Haydn  2106_op64n5_3.mid   \n",
       "43          Haydn  2105_op64n5_2.mid   \n",
       "74         Mozart  1807_kv_387_3.mid   \n",
       "75         Mozart  1805_kv_387_1.mid   \n",
       "76         Mozart  1788_kv_465_1.mid   \n",
       "78         Mozart  1792_kv_465_1.mid   \n",
       "79         Mozart  1790_kv_465_3.mid   \n",
       "82         Mozart  1789_kv_465_2.mid   \n",
       "84         Mozart  1835_kv_590_3.mid   \n",
       "85         Mozart  1791_kv_465_4.mid   \n",
       "86         Mozart  1822_kv_421_1.mid   \n",
       "90         Mozart  1859_kv_464_2.mid   \n",
       "93         Mozart  1824_kv_421_3.mid   \n",
       "95         Mozart  1793_kv_465_2.mid   \n",
       "169     Beethoven    2314_qt15_2.mid   \n",
       "177     Beethoven    2313_qt15_1.mid   \n",
       "179     Beethoven    2315_qt15_3.mid   \n",
       "182     Beethoven    2431_qt16_1.mid   \n",
       "190     Beethoven    2432_qt16_2.mid   \n",
       "194     Beethoven    2368_qt12_4.mid   \n",
       "197     Beethoven    2382_qt13_2.mid   \n",
       "198     Beethoven    2366_qt12_2.mid   \n",
       "201     Beethoven    2365_qt12_1.mid   \n",
       "212     Beethoven    2433_qt16_3.mid   \n",
       "214     Beethoven    2379_qt08_4.mid   \n",
       "215     Beethoven    2451_qt06_2.mid   \n",
       "217     Beethoven    2376_qt08_1.mid   \n",
       "218     Beethoven    2381_qt13_1.mid   \n",
       "222     Beethoven    2383_qt13_3.mid   \n",
       "223     Beethoven    2384_qt13_4.mid   \n",
       "224     Beethoven    2377_qt08_2.mid   \n",
       "226     Beethoven    2403_qt01_4.mid   \n",
       "227     Beethoven    2482_qt05_3.mid   \n",
       "230     Beethoven    2483_qt05_4.mid   \n",
       "234     Beethoven    2481_qt05_2.mid   \n",
       "235     Beethoven    2562_qt02_4.mid   \n",
       "238     Beethoven    2560_qt02_2.mid   \n",
       "240     Beethoven    2494_qt11_1.mid   \n",
       "265     Beethoven    2497_qt11_4.mid   \n",
       "278     Beethoven    2480_qt05_1.mid   \n",
       "288     Beethoven    2622_qt07_2.mid   \n",
       "293     Beethoven    2621_qt07_1.mid   \n",
       "315         Ravel  2177_gr_rqtf1.mid   \n",
       "316         Ravel  2180_gr_rqtf4.mid   \n",
       "317         Ravel  2178_gr_rqtf2.mid   \n",
       "318         Ravel  2179_gr_rqtf3.mid   \n",
       "\n",
       "                                           track_names  \\\n",
       "0                     [Violin2, Cello, Viola, Violin1]   \n",
       "1                     [Violin2, Cello, Viola, Violin1]   \n",
       "3                     [Violin1, Violin2, Viola, Cello]   \n",
       "4                     [Violin1, Violin2, Viola, Cello]   \n",
       "7                     [Violin1, Violin2, Viola, Cello]   \n",
       "9    [Violin1, Violin2, Viola 1, Viola 2, Cello 1, ...   \n",
       "14   [Violin1, Violin2, Viola 1, Viola 2, Cello 1, ...   \n",
       "24   [Violin1, Violin2, Viola 1, Viola 2, Cello 1, ...   \n",
       "25   [Violin1, Violin2, Viola 1, Viola 2, Cello 1, ...   \n",
       "41                    [Violin1, Violin2, Viola, Cello]   \n",
       "42                    [Violin1, Violin2, Viola, Cello]   \n",
       "43                    [Violin1, Violin2, Viola, Cello]   \n",
       "74                    [Violin1, Violin2, Viola, Cello]   \n",
       "75                    [Violin1, Violin2, Viola, Cello]   \n",
       "76                    [Violin1, Violin2, Viola, Cello]   \n",
       "78                    [Violin1, Violin2, Viola, Cello]   \n",
       "79                    [Violin1, Violin2, Viola, Cello]   \n",
       "82                    [Violin1, Violin2, Viola, Cello]   \n",
       "84                    [Violin1, Violin2, Viola, Cello]   \n",
       "85                    [Violin1, Violin2, Viola, Cello]   \n",
       "86                    [Violin1, Violin2, Viola, Cello]   \n",
       "90                    [Violin1, Violin2, Viola, Cello]   \n",
       "93                    [Violin1, Violin2, Viola, Cello]   \n",
       "95                    [Violin1, Violin2, Viola, Cello]   \n",
       "169                   [Violin1, Violin2, Viola, Cello]   \n",
       "177                   [Violin1, Violin2, Viola, Cello]   \n",
       "179                   [Violin1, Violin2, Viola, Cello]   \n",
       "182                   [Violin1, Violin2, Viola, Cello]   \n",
       "190                   [Violin1, Violin2, Viola, Cello]   \n",
       "194                   [Violin1, Violin2, Viola, Cello]   \n",
       "197                   [Violin1, Violin2, Viola, Cello]   \n",
       "198                   [Violin1, Violin2, Viola, Cello]   \n",
       "201                   [Violin1, Violin2, Viola, Cello]   \n",
       "212                   [Violin1, Violin2, Viola, Cello]   \n",
       "214                   [Violin1, Violin2, Viola, Cello]   \n",
       "215                   [Violin1, Violin2, Viola, Cello]   \n",
       "217                   [Violin1, Violin2, Viola, Cello]   \n",
       "218                   [Violin1, Violin2, Viola, Cello]   \n",
       "222                   [Violin1, Violin2, Viola, Cello]   \n",
       "223                   [Violin1, Violin2, Viola, Cello]   \n",
       "224                   [Violin1, Violin2, Viola, Cello]   \n",
       "226                   [Violin1, Violin2, Viola, Cello]   \n",
       "227                   [Violin1, Violin2, Viola, Cello]   \n",
       "230                   [Violin1, Violin2, Viola, Cello]   \n",
       "234                   [Violin1, Violin2, Viola, Cello]   \n",
       "235                   [Violin1, Violin2, Viola, Cello]   \n",
       "238                   [Violin1, Violin2, Viola, Cello]   \n",
       "240                   [Violin1, Violin2, Viola, Cello]   \n",
       "265                   [Violin1, Violin2, Viola, Cello]   \n",
       "278                   [Violin1, Violin2, Viola, Cello]   \n",
       "288                   [Violin1, Violin2, Viola, Cello]   \n",
       "293                   [Violin1, Violin2, Viola, Cello]   \n",
       "315                   [Violin1, Violin2, Viola, Cello]   \n",
       "316            [Violin1, Violin2, Viola, Cello, Tempo]   \n",
       "317                   [Violin1, Violin2, Viola, Cello]   \n",
       "318                   [Violin1, Violin2, Viola, Cello]   \n",
       "\n",
       "                                                 parts  \n",
       "0    {'Violin2': [[0, 0, 0, 0, 0, 0, 0, 0, 0, 0, 0,...  \n",
       "1    {'Violin2': [[0, 0, 0, 0, 0, 0, 0, 0, 0, 0, 0,...  \n",
       "3    {'Violin1': [[0, 0, 0, 0, 0, 0, 0, 0, 0, 0, 0,...  \n",
       "4    {'Violin1': [[0, 0, 0, 0, 0, 0, 0, 0, 0, 0, 0,...  \n",
       "7    {'Violin1': [[0, 0, 0, 0, 0, 0, 0, 0, 0, 0, 0,...  \n",
       "9    {'Violin1': [[0, 0, 0, 0, 0, 0, 0, 0, 0, 0, 0,...  \n",
       "14   {'Violin1': [[0, 0, 0, 0, 0, 0, 0, 0, 0, 0, 0,...  \n",
       "24   {'Violin1': [[0, 0, 0, 0, 0, 0, 0, 0, 0, 0, 0,...  \n",
       "25   {'Violin1': [[0, 0, 0, 0, 0, 0, 0, 0, 0, 0, 0,...  \n",
       "41   {'Violin1': [[0, 0, 0, 0, 0, 0, 0, 0, 0, 0, 0,...  \n",
       "42   {'Violin1': [[0, 0, 0, 0, 0, 0, 0, 0, 0, 0, 0,...  \n",
       "43   {'Violin1': [[0, 0, 0, 0, 0, 0, 0, 0, 0, 0, 0,...  \n",
       "74   {'Violin1': [[0, 0, 0, 0, 0, 0, 0, 0, 0, 0, 0,...  \n",
       "75   {'Violin1': [[0, 0, 0, 0, 0, 0, 0, 0, 0, 0, 0,...  \n",
       "76   {'Violin1': [[0, 0, 0, 0, 0, 0, 0, 0, 0, 0, 0,...  \n",
       "78   {'Violin1': [[0, 0, 0, 0, 0, 0, 0, 0, 0, 0, 0,...  \n",
       "79   {'Violin1': [[0, 0, 0, 0, 0, 0, 0, 0, 0, 0, 0,...  \n",
       "82   {'Violin1': [[0, 0, 0, 0, 0, 0, 0, 0, 0, 0, 0,...  \n",
       "84   {'Violin1': [[0, 0, 0, 0, 0, 0, 0, 0, 0, 0, 0,...  \n",
       "85   {'Violin1': [[0, 0, 0, 0, 0, 0, 0, 0, 0, 0, 0,...  \n",
       "86   {'Violin1': [[0, 0, 0, 0, 0, 0, 0, 0, 0, 0, 0,...  \n",
       "90   {'Violin1': [[0, 0, 0, 0, 0, 0, 0, 0, 0, 0, 0,...  \n",
       "93   {'Violin1': [[0, 0, 0, 0, 0, 0, 0, 0, 0, 0, 0,...  \n",
       "95   {'Violin1': [[0, 0, 0, 0, 0, 0, 0, 0, 0, 0, 0,...  \n",
       "169  {'Violin1': [[0, 0, 0, 0, 0, 0, 0, 0, 0, 0, 0,...  \n",
       "177  {'Violin1': [[0, 0, 0, 0, 0, 0, 0, 0, 0, 0, 0,...  \n",
       "179  {'Violin1': [[0, 0, 0, 0, 0, 0, 0, 0, 0, 0, 0,...  \n",
       "182  {'Violin1': [[0, 0, 0, 0, 0, 0, 0, 0, 0, 0, 0,...  \n",
       "190  {'Violin1': [[0, 0, 0, 0, 0, 0, 0, 0, 0, 0, 0,...  \n",
       "194  {'Violin1': [[0, 0, 0, 0, 0, 0, 0, 0, 0, 0, 0,...  \n",
       "197  {'Violin1': [[0, 0, 0, 0, 0, 0, 0, 0, 0, 0, 0,...  \n",
       "198  {'Violin1': [[0, 0, 0, 0, 0, 0, 0, 0, 0, 0, 0,...  \n",
       "201  {'Violin1': [[0, 0, 0, 0, 0, 0, 0, 0, 0, 0, 0,...  \n",
       "212  {'Violin1': [[0, 0, 0, 0, 0, 0, 0, 0, 0, 0, 0,...  \n",
       "214  {'Violin1': [[0, 0, 0, 0, 0, 0, 0, 0, 0, 0, 0,...  \n",
       "215  {'Violin1': [[0, 0, 0, 0, 0, 0, 0, 0, 0, 0, 0,...  \n",
       "217  {'Violin1': [[0, 0, 0, 0, 0, 0, 0, 0, 0, 0, 0,...  \n",
       "218  {'Violin1': [[0, 0, 0, 0, 0, 0, 0, 0, 0, 0, 0,...  \n",
       "222  {'Violin1': [[0, 0, 0, 0, 0, 0, 0, 0, 0, 0, 0,...  \n",
       "223  {'Violin1': [[0, 0, 0, 0, 0, 0, 0, 0, 0, 0, 0,...  \n",
       "224  {'Violin1': [[0, 0, 0, 0, 0, 0, 0, 0, 0, 0, 0,...  \n",
       "226  {'Violin1': [[0, 0, 0, 0, 0, 0, 0, 0, 0, 0, 0,...  \n",
       "227  {'Violin1': [[0, 0, 0, 0, 0, 0, 0, 0, 0, 0, 0,...  \n",
       "230  {'Violin1': [[0, 0, 0, 0, 0, 0, 0, 0, 0, 0, 0,...  \n",
       "234  {'Violin1': [[0, 0, 0, 0, 0, 0, 0, 0, 0, 0, 0,...  \n",
       "235  {'Violin1': [[0, 0, 0, 0, 0, 0, 0, 0, 0, 0, 0,...  \n",
       "238  {'Violin1': [[0, 0, 0, 0, 0, 0, 0, 0, 0, 0, 0,...  \n",
       "240  {'Violin1': [[0, 0, 0, 0, 0, 0, 0, 0, 0, 0, 0,...  \n",
       "265  {'Violin1': [[0, 0, 0, 0, 0, 0, 0, 0, 0, 0, 0,...  \n",
       "278  {'Violin1': [[0, 0, 0, 0, 0, 0, 0, 0, 0, 0, 0,...  \n",
       "288  {'Violin1': [[0, 0, 0, 0, 0, 0, 0, 0, 0, 0, 0,...  \n",
       "293  {'Violin1': [[0, 0, 0, 0, 0, 0, 0, 0, 0, 0, 0,...  \n",
       "315  {'Violin1': [[0, 0, 0, 0, 0, 0, 0, 0, 0, 0, 0,...  \n",
       "316  {'Violin1': [[0, 0, 0, 0, 0, 0, 0, 0, 0, 0, 0,...  \n",
       "317  {'Violin1': [[0, 0, 0, 0, 0, 0, 0, 0, 0, 0, 0,...  \n",
       "318  {'Violin1': [[0, 0, 0, 0, 0, 0, 0, 0, 0, 0, 0,...  "
      ],
      "text/html": [
       "\n",
       "  <div id=\"df-ea6c2ae7-09e2-404b-a907-187d6b5d39ef\">\n",
       "    <div class=\"colab-df-container\">\n",
       "      <div>\n",
       "<style scoped>\n",
       "    .dataframe tbody tr th:only-of-type {\n",
       "        vertical-align: middle;\n",
       "    }\n",
       "\n",
       "    .dataframe tbody tr th {\n",
       "        vertical-align: top;\n",
       "    }\n",
       "\n",
       "    .dataframe thead th {\n",
       "        text-align: right;\n",
       "    }\n",
       "</style>\n",
       "<table border=\"1\" class=\"dataframe\">\n",
       "  <thead>\n",
       "    <tr style=\"text-align: right;\">\n",
       "      <th></th>\n",
       "      <th>composer_name</th>\n",
       "      <th>mid_name</th>\n",
       "      <th>track_names</th>\n",
       "      <th>parts</th>\n",
       "    </tr>\n",
       "  </thead>\n",
       "  <tbody>\n",
       "    <tr>\n",
       "      <th>0</th>\n",
       "      <td>Dvorak</td>\n",
       "      <td>1919_dvqt10m4.mid</td>\n",
       "      <td>[Violin2, Cello, Viola, Violin1]</td>\n",
       "      <td>{'Violin2': [[0, 0, 0, 0, 0, 0, 0, 0, 0, 0, 0,...</td>\n",
       "    </tr>\n",
       "    <tr>\n",
       "      <th>1</th>\n",
       "      <td>Dvorak</td>\n",
       "      <td>1923_dvqt10m4.mid</td>\n",
       "      <td>[Violin2, Cello, Viola, Violin1]</td>\n",
       "      <td>{'Violin2': [[0, 0, 0, 0, 0, 0, 0, 0, 0, 0, 0,...</td>\n",
       "    </tr>\n",
       "    <tr>\n",
       "      <th>3</th>\n",
       "      <td>Dvorak</td>\n",
       "      <td>1916_dvq10m1.mid</td>\n",
       "      <td>[Violin1, Violin2, Viola, Cello]</td>\n",
       "      <td>{'Violin1': [[0, 0, 0, 0, 0, 0, 0, 0, 0, 0, 0,...</td>\n",
       "    </tr>\n",
       "    <tr>\n",
       "      <th>4</th>\n",
       "      <td>Dvorak</td>\n",
       "      <td>1922_dvqt10m3.mid</td>\n",
       "      <td>[Violin1, Violin2, Viola, Cello]</td>\n",
       "      <td>{'Violin1': [[0, 0, 0, 0, 0, 0, 0, 0, 0, 0, 0,...</td>\n",
       "    </tr>\n",
       "    <tr>\n",
       "      <th>7</th>\n",
       "      <td>Dvorak</td>\n",
       "      <td>1918_dvqt10m3.mid</td>\n",
       "      <td>[Violin1, Violin2, Viola, Cello]</td>\n",
       "      <td>{'Violin1': [[0, 0, 0, 0, 0, 0, 0, 0, 0, 0, 0,...</td>\n",
       "    </tr>\n",
       "    <tr>\n",
       "      <th>9</th>\n",
       "      <td>Brahms</td>\n",
       "      <td>2155_br18m2.mid</td>\n",
       "      <td>[Violin1, Violin2, Viola 1, Viola 2, Cello 1, ...</td>\n",
       "      <td>{'Violin1': [[0, 0, 0, 0, 0, 0, 0, 0, 0, 0, 0,...</td>\n",
       "    </tr>\n",
       "    <tr>\n",
       "      <th>14</th>\n",
       "      <td>Brahms</td>\n",
       "      <td>2157_br18m4.mid</td>\n",
       "      <td>[Violin1, Violin2, Viola 1, Viola 2, Cello 1, ...</td>\n",
       "      <td>{'Violin1': [[0, 0, 0, 0, 0, 0, 0, 0, 0, 0, 0,...</td>\n",
       "    </tr>\n",
       "    <tr>\n",
       "      <th>24</th>\n",
       "      <td>Brahms</td>\n",
       "      <td>2156_br18m3.mid</td>\n",
       "      <td>[Violin1, Violin2, Viola 1, Viola 2, Cello 1, ...</td>\n",
       "      <td>{'Violin1': [[0, 0, 0, 0, 0, 0, 0, 0, 0, 0, 0,...</td>\n",
       "    </tr>\n",
       "    <tr>\n",
       "      <th>25</th>\n",
       "      <td>Brahms</td>\n",
       "      <td>2154_br18m1.mid</td>\n",
       "      <td>[Violin1, Violin2, Viola 1, Viola 2, Cello 1, ...</td>\n",
       "      <td>{'Violin1': [[0, 0, 0, 0, 0, 0, 0, 0, 0, 0, 0,...</td>\n",
       "    </tr>\n",
       "    <tr>\n",
       "      <th>41</th>\n",
       "      <td>Haydn</td>\n",
       "      <td>2104_op64n5_1.mid</td>\n",
       "      <td>[Violin1, Violin2, Viola, Cello]</td>\n",
       "      <td>{'Violin1': [[0, 0, 0, 0, 0, 0, 0, 0, 0, 0, 0,...</td>\n",
       "    </tr>\n",
       "    <tr>\n",
       "      <th>42</th>\n",
       "      <td>Haydn</td>\n",
       "      <td>2106_op64n5_3.mid</td>\n",
       "      <td>[Violin1, Violin2, Viola, Cello]</td>\n",
       "      <td>{'Violin1': [[0, 0, 0, 0, 0, 0, 0, 0, 0, 0, 0,...</td>\n",
       "    </tr>\n",
       "    <tr>\n",
       "      <th>43</th>\n",
       "      <td>Haydn</td>\n",
       "      <td>2105_op64n5_2.mid</td>\n",
       "      <td>[Violin1, Violin2, Viola, Cello]</td>\n",
       "      <td>{'Violin1': [[0, 0, 0, 0, 0, 0, 0, 0, 0, 0, 0,...</td>\n",
       "    </tr>\n",
       "    <tr>\n",
       "      <th>74</th>\n",
       "      <td>Mozart</td>\n",
       "      <td>1807_kv_387_3.mid</td>\n",
       "      <td>[Violin1, Violin2, Viola, Cello]</td>\n",
       "      <td>{'Violin1': [[0, 0, 0, 0, 0, 0, 0, 0, 0, 0, 0,...</td>\n",
       "    </tr>\n",
       "    <tr>\n",
       "      <th>75</th>\n",
       "      <td>Mozart</td>\n",
       "      <td>1805_kv_387_1.mid</td>\n",
       "      <td>[Violin1, Violin2, Viola, Cello]</td>\n",
       "      <td>{'Violin1': [[0, 0, 0, 0, 0, 0, 0, 0, 0, 0, 0,...</td>\n",
       "    </tr>\n",
       "    <tr>\n",
       "      <th>76</th>\n",
       "      <td>Mozart</td>\n",
       "      <td>1788_kv_465_1.mid</td>\n",
       "      <td>[Violin1, Violin2, Viola, Cello]</td>\n",
       "      <td>{'Violin1': [[0, 0, 0, 0, 0, 0, 0, 0, 0, 0, 0,...</td>\n",
       "    </tr>\n",
       "    <tr>\n",
       "      <th>78</th>\n",
       "      <td>Mozart</td>\n",
       "      <td>1792_kv_465_1.mid</td>\n",
       "      <td>[Violin1, Violin2, Viola, Cello]</td>\n",
       "      <td>{'Violin1': [[0, 0, 0, 0, 0, 0, 0, 0, 0, 0, 0,...</td>\n",
       "    </tr>\n",
       "    <tr>\n",
       "      <th>79</th>\n",
       "      <td>Mozart</td>\n",
       "      <td>1790_kv_465_3.mid</td>\n",
       "      <td>[Violin1, Violin2, Viola, Cello]</td>\n",
       "      <td>{'Violin1': [[0, 0, 0, 0, 0, 0, 0, 0, 0, 0, 0,...</td>\n",
       "    </tr>\n",
       "    <tr>\n",
       "      <th>82</th>\n",
       "      <td>Mozart</td>\n",
       "      <td>1789_kv_465_2.mid</td>\n",
       "      <td>[Violin1, Violin2, Viola, Cello]</td>\n",
       "      <td>{'Violin1': [[0, 0, 0, 0, 0, 0, 0, 0, 0, 0, 0,...</td>\n",
       "    </tr>\n",
       "    <tr>\n",
       "      <th>84</th>\n",
       "      <td>Mozart</td>\n",
       "      <td>1835_kv_590_3.mid</td>\n",
       "      <td>[Violin1, Violin2, Viola, Cello]</td>\n",
       "      <td>{'Violin1': [[0, 0, 0, 0, 0, 0, 0, 0, 0, 0, 0,...</td>\n",
       "    </tr>\n",
       "    <tr>\n",
       "      <th>85</th>\n",
       "      <td>Mozart</td>\n",
       "      <td>1791_kv_465_4.mid</td>\n",
       "      <td>[Violin1, Violin2, Viola, Cello]</td>\n",
       "      <td>{'Violin1': [[0, 0, 0, 0, 0, 0, 0, 0, 0, 0, 0,...</td>\n",
       "    </tr>\n",
       "    <tr>\n",
       "      <th>86</th>\n",
       "      <td>Mozart</td>\n",
       "      <td>1822_kv_421_1.mid</td>\n",
       "      <td>[Violin1, Violin2, Viola, Cello]</td>\n",
       "      <td>{'Violin1': [[0, 0, 0, 0, 0, 0, 0, 0, 0, 0, 0,...</td>\n",
       "    </tr>\n",
       "    <tr>\n",
       "      <th>90</th>\n",
       "      <td>Mozart</td>\n",
       "      <td>1859_kv_464_2.mid</td>\n",
       "      <td>[Violin1, Violin2, Viola, Cello]</td>\n",
       "      <td>{'Violin1': [[0, 0, 0, 0, 0, 0, 0, 0, 0, 0, 0,...</td>\n",
       "    </tr>\n",
       "    <tr>\n",
       "      <th>93</th>\n",
       "      <td>Mozart</td>\n",
       "      <td>1824_kv_421_3.mid</td>\n",
       "      <td>[Violin1, Violin2, Viola, Cello]</td>\n",
       "      <td>{'Violin1': [[0, 0, 0, 0, 0, 0, 0, 0, 0, 0, 0,...</td>\n",
       "    </tr>\n",
       "    <tr>\n",
       "      <th>95</th>\n",
       "      <td>Mozart</td>\n",
       "      <td>1793_kv_465_2.mid</td>\n",
       "      <td>[Violin1, Violin2, Viola, Cello]</td>\n",
       "      <td>{'Violin1': [[0, 0, 0, 0, 0, 0, 0, 0, 0, 0, 0,...</td>\n",
       "    </tr>\n",
       "    <tr>\n",
       "      <th>169</th>\n",
       "      <td>Beethoven</td>\n",
       "      <td>2314_qt15_2.mid</td>\n",
       "      <td>[Violin1, Violin2, Viola, Cello]</td>\n",
       "      <td>{'Violin1': [[0, 0, 0, 0, 0, 0, 0, 0, 0, 0, 0,...</td>\n",
       "    </tr>\n",
       "    <tr>\n",
       "      <th>177</th>\n",
       "      <td>Beethoven</td>\n",
       "      <td>2313_qt15_1.mid</td>\n",
       "      <td>[Violin1, Violin2, Viola, Cello]</td>\n",
       "      <td>{'Violin1': [[0, 0, 0, 0, 0, 0, 0, 0, 0, 0, 0,...</td>\n",
       "    </tr>\n",
       "    <tr>\n",
       "      <th>179</th>\n",
       "      <td>Beethoven</td>\n",
       "      <td>2315_qt15_3.mid</td>\n",
       "      <td>[Violin1, Violin2, Viola, Cello]</td>\n",
       "      <td>{'Violin1': [[0, 0, 0, 0, 0, 0, 0, 0, 0, 0, 0,...</td>\n",
       "    </tr>\n",
       "    <tr>\n",
       "      <th>182</th>\n",
       "      <td>Beethoven</td>\n",
       "      <td>2431_qt16_1.mid</td>\n",
       "      <td>[Violin1, Violin2, Viola, Cello]</td>\n",
       "      <td>{'Violin1': [[0, 0, 0, 0, 0, 0, 0, 0, 0, 0, 0,...</td>\n",
       "    </tr>\n",
       "    <tr>\n",
       "      <th>190</th>\n",
       "      <td>Beethoven</td>\n",
       "      <td>2432_qt16_2.mid</td>\n",
       "      <td>[Violin1, Violin2, Viola, Cello]</td>\n",
       "      <td>{'Violin1': [[0, 0, 0, 0, 0, 0, 0, 0, 0, 0, 0,...</td>\n",
       "    </tr>\n",
       "    <tr>\n",
       "      <th>194</th>\n",
       "      <td>Beethoven</td>\n",
       "      <td>2368_qt12_4.mid</td>\n",
       "      <td>[Violin1, Violin2, Viola, Cello]</td>\n",
       "      <td>{'Violin1': [[0, 0, 0, 0, 0, 0, 0, 0, 0, 0, 0,...</td>\n",
       "    </tr>\n",
       "    <tr>\n",
       "      <th>197</th>\n",
       "      <td>Beethoven</td>\n",
       "      <td>2382_qt13_2.mid</td>\n",
       "      <td>[Violin1, Violin2, Viola, Cello]</td>\n",
       "      <td>{'Violin1': [[0, 0, 0, 0, 0, 0, 0, 0, 0, 0, 0,...</td>\n",
       "    </tr>\n",
       "    <tr>\n",
       "      <th>198</th>\n",
       "      <td>Beethoven</td>\n",
       "      <td>2366_qt12_2.mid</td>\n",
       "      <td>[Violin1, Violin2, Viola, Cello]</td>\n",
       "      <td>{'Violin1': [[0, 0, 0, 0, 0, 0, 0, 0, 0, 0, 0,...</td>\n",
       "    </tr>\n",
       "    <tr>\n",
       "      <th>201</th>\n",
       "      <td>Beethoven</td>\n",
       "      <td>2365_qt12_1.mid</td>\n",
       "      <td>[Violin1, Violin2, Viola, Cello]</td>\n",
       "      <td>{'Violin1': [[0, 0, 0, 0, 0, 0, 0, 0, 0, 0, 0,...</td>\n",
       "    </tr>\n",
       "    <tr>\n",
       "      <th>212</th>\n",
       "      <td>Beethoven</td>\n",
       "      <td>2433_qt16_3.mid</td>\n",
       "      <td>[Violin1, Violin2, Viola, Cello]</td>\n",
       "      <td>{'Violin1': [[0, 0, 0, 0, 0, 0, 0, 0, 0, 0, 0,...</td>\n",
       "    </tr>\n",
       "    <tr>\n",
       "      <th>214</th>\n",
       "      <td>Beethoven</td>\n",
       "      <td>2379_qt08_4.mid</td>\n",
       "      <td>[Violin1, Violin2, Viola, Cello]</td>\n",
       "      <td>{'Violin1': [[0, 0, 0, 0, 0, 0, 0, 0, 0, 0, 0,...</td>\n",
       "    </tr>\n",
       "    <tr>\n",
       "      <th>215</th>\n",
       "      <td>Beethoven</td>\n",
       "      <td>2451_qt06_2.mid</td>\n",
       "      <td>[Violin1, Violin2, Viola, Cello]</td>\n",
       "      <td>{'Violin1': [[0, 0, 0, 0, 0, 0, 0, 0, 0, 0, 0,...</td>\n",
       "    </tr>\n",
       "    <tr>\n",
       "      <th>217</th>\n",
       "      <td>Beethoven</td>\n",
       "      <td>2376_qt08_1.mid</td>\n",
       "      <td>[Violin1, Violin2, Viola, Cello]</td>\n",
       "      <td>{'Violin1': [[0, 0, 0, 0, 0, 0, 0, 0, 0, 0, 0,...</td>\n",
       "    </tr>\n",
       "    <tr>\n",
       "      <th>218</th>\n",
       "      <td>Beethoven</td>\n",
       "      <td>2381_qt13_1.mid</td>\n",
       "      <td>[Violin1, Violin2, Viola, Cello]</td>\n",
       "      <td>{'Violin1': [[0, 0, 0, 0, 0, 0, 0, 0, 0, 0, 0,...</td>\n",
       "    </tr>\n",
       "    <tr>\n",
       "      <th>222</th>\n",
       "      <td>Beethoven</td>\n",
       "      <td>2383_qt13_3.mid</td>\n",
       "      <td>[Violin1, Violin2, Viola, Cello]</td>\n",
       "      <td>{'Violin1': [[0, 0, 0, 0, 0, 0, 0, 0, 0, 0, 0,...</td>\n",
       "    </tr>\n",
       "    <tr>\n",
       "      <th>223</th>\n",
       "      <td>Beethoven</td>\n",
       "      <td>2384_qt13_4.mid</td>\n",
       "      <td>[Violin1, Violin2, Viola, Cello]</td>\n",
       "      <td>{'Violin1': [[0, 0, 0, 0, 0, 0, 0, 0, 0, 0, 0,...</td>\n",
       "    </tr>\n",
       "    <tr>\n",
       "      <th>224</th>\n",
       "      <td>Beethoven</td>\n",
       "      <td>2377_qt08_2.mid</td>\n",
       "      <td>[Violin1, Violin2, Viola, Cello]</td>\n",
       "      <td>{'Violin1': [[0, 0, 0, 0, 0, 0, 0, 0, 0, 0, 0,...</td>\n",
       "    </tr>\n",
       "    <tr>\n",
       "      <th>226</th>\n",
       "      <td>Beethoven</td>\n",
       "      <td>2403_qt01_4.mid</td>\n",
       "      <td>[Violin1, Violin2, Viola, Cello]</td>\n",
       "      <td>{'Violin1': [[0, 0, 0, 0, 0, 0, 0, 0, 0, 0, 0,...</td>\n",
       "    </tr>\n",
       "    <tr>\n",
       "      <th>227</th>\n",
       "      <td>Beethoven</td>\n",
       "      <td>2482_qt05_3.mid</td>\n",
       "      <td>[Violin1, Violin2, Viola, Cello]</td>\n",
       "      <td>{'Violin1': [[0, 0, 0, 0, 0, 0, 0, 0, 0, 0, 0,...</td>\n",
       "    </tr>\n",
       "    <tr>\n",
       "      <th>230</th>\n",
       "      <td>Beethoven</td>\n",
       "      <td>2483_qt05_4.mid</td>\n",
       "      <td>[Violin1, Violin2, Viola, Cello]</td>\n",
       "      <td>{'Violin1': [[0, 0, 0, 0, 0, 0, 0, 0, 0, 0, 0,...</td>\n",
       "    </tr>\n",
       "    <tr>\n",
       "      <th>234</th>\n",
       "      <td>Beethoven</td>\n",
       "      <td>2481_qt05_2.mid</td>\n",
       "      <td>[Violin1, Violin2, Viola, Cello]</td>\n",
       "      <td>{'Violin1': [[0, 0, 0, 0, 0, 0, 0, 0, 0, 0, 0,...</td>\n",
       "    </tr>\n",
       "    <tr>\n",
       "      <th>235</th>\n",
       "      <td>Beethoven</td>\n",
       "      <td>2562_qt02_4.mid</td>\n",
       "      <td>[Violin1, Violin2, Viola, Cello]</td>\n",
       "      <td>{'Violin1': [[0, 0, 0, 0, 0, 0, 0, 0, 0, 0, 0,...</td>\n",
       "    </tr>\n",
       "    <tr>\n",
       "      <th>238</th>\n",
       "      <td>Beethoven</td>\n",
       "      <td>2560_qt02_2.mid</td>\n",
       "      <td>[Violin1, Violin2, Viola, Cello]</td>\n",
       "      <td>{'Violin1': [[0, 0, 0, 0, 0, 0, 0, 0, 0, 0, 0,...</td>\n",
       "    </tr>\n",
       "    <tr>\n",
       "      <th>240</th>\n",
       "      <td>Beethoven</td>\n",
       "      <td>2494_qt11_1.mid</td>\n",
       "      <td>[Violin1, Violin2, Viola, Cello]</td>\n",
       "      <td>{'Violin1': [[0, 0, 0, 0, 0, 0, 0, 0, 0, 0, 0,...</td>\n",
       "    </tr>\n",
       "    <tr>\n",
       "      <th>265</th>\n",
       "      <td>Beethoven</td>\n",
       "      <td>2497_qt11_4.mid</td>\n",
       "      <td>[Violin1, Violin2, Viola, Cello]</td>\n",
       "      <td>{'Violin1': [[0, 0, 0, 0, 0, 0, 0, 0, 0, 0, 0,...</td>\n",
       "    </tr>\n",
       "    <tr>\n",
       "      <th>278</th>\n",
       "      <td>Beethoven</td>\n",
       "      <td>2480_qt05_1.mid</td>\n",
       "      <td>[Violin1, Violin2, Viola, Cello]</td>\n",
       "      <td>{'Violin1': [[0, 0, 0, 0, 0, 0, 0, 0, 0, 0, 0,...</td>\n",
       "    </tr>\n",
       "    <tr>\n",
       "      <th>288</th>\n",
       "      <td>Beethoven</td>\n",
       "      <td>2622_qt07_2.mid</td>\n",
       "      <td>[Violin1, Violin2, Viola, Cello]</td>\n",
       "      <td>{'Violin1': [[0, 0, 0, 0, 0, 0, 0, 0, 0, 0, 0,...</td>\n",
       "    </tr>\n",
       "    <tr>\n",
       "      <th>293</th>\n",
       "      <td>Beethoven</td>\n",
       "      <td>2621_qt07_1.mid</td>\n",
       "      <td>[Violin1, Violin2, Viola, Cello]</td>\n",
       "      <td>{'Violin1': [[0, 0, 0, 0, 0, 0, 0, 0, 0, 0, 0,...</td>\n",
       "    </tr>\n",
       "    <tr>\n",
       "      <th>315</th>\n",
       "      <td>Ravel</td>\n",
       "      <td>2177_gr_rqtf1.mid</td>\n",
       "      <td>[Violin1, Violin2, Viola, Cello]</td>\n",
       "      <td>{'Violin1': [[0, 0, 0, 0, 0, 0, 0, 0, 0, 0, 0,...</td>\n",
       "    </tr>\n",
       "    <tr>\n",
       "      <th>316</th>\n",
       "      <td>Ravel</td>\n",
       "      <td>2180_gr_rqtf4.mid</td>\n",
       "      <td>[Violin1, Violin2, Viola, Cello, Tempo]</td>\n",
       "      <td>{'Violin1': [[0, 0, 0, 0, 0, 0, 0, 0, 0, 0, 0,...</td>\n",
       "    </tr>\n",
       "    <tr>\n",
       "      <th>317</th>\n",
       "      <td>Ravel</td>\n",
       "      <td>2178_gr_rqtf2.mid</td>\n",
       "      <td>[Violin1, Violin2, Viola, Cello]</td>\n",
       "      <td>{'Violin1': [[0, 0, 0, 0, 0, 0, 0, 0, 0, 0, 0,...</td>\n",
       "    </tr>\n",
       "    <tr>\n",
       "      <th>318</th>\n",
       "      <td>Ravel</td>\n",
       "      <td>2179_gr_rqtf3.mid</td>\n",
       "      <td>[Violin1, Violin2, Viola, Cello]</td>\n",
       "      <td>{'Violin1': [[0, 0, 0, 0, 0, 0, 0, 0, 0, 0, 0,...</td>\n",
       "    </tr>\n",
       "  </tbody>\n",
       "</table>\n",
       "</div>\n",
       "      <button class=\"colab-df-convert\" onclick=\"convertToInteractive('df-ea6c2ae7-09e2-404b-a907-187d6b5d39ef')\"\n",
       "              title=\"Convert this dataframe to an interactive table.\"\n",
       "              style=\"display:none;\">\n",
       "        \n",
       "  <svg xmlns=\"http://www.w3.org/2000/svg\" height=\"24px\"viewBox=\"0 0 24 24\"\n",
       "       width=\"24px\">\n",
       "    <path d=\"M0 0h24v24H0V0z\" fill=\"none\"/>\n",
       "    <path d=\"M18.56 5.44l.94 2.06.94-2.06 2.06-.94-2.06-.94-.94-2.06-.94 2.06-2.06.94zm-11 1L8.5 8.5l.94-2.06 2.06-.94-2.06-.94L8.5 2.5l-.94 2.06-2.06.94zm10 10l.94 2.06.94-2.06 2.06-.94-2.06-.94-.94-2.06-.94 2.06-2.06.94z\"/><path d=\"M17.41 7.96l-1.37-1.37c-.4-.4-.92-.59-1.43-.59-.52 0-1.04.2-1.43.59L10.3 9.45l-7.72 7.72c-.78.78-.78 2.05 0 2.83L4 21.41c.39.39.9.59 1.41.59.51 0 1.02-.2 1.41-.59l7.78-7.78 2.81-2.81c.8-.78.8-2.07 0-2.86zM5.41 20L4 18.59l7.72-7.72 1.47 1.35L5.41 20z\"/>\n",
       "  </svg>\n",
       "      </button>\n",
       "      \n",
       "  <style>\n",
       "    .colab-df-container {\n",
       "      display:flex;\n",
       "      flex-wrap:wrap;\n",
       "      gap: 12px;\n",
       "    }\n",
       "\n",
       "    .colab-df-convert {\n",
       "      background-color: #E8F0FE;\n",
       "      border: none;\n",
       "      border-radius: 50%;\n",
       "      cursor: pointer;\n",
       "      display: none;\n",
       "      fill: #1967D2;\n",
       "      height: 32px;\n",
       "      padding: 0 0 0 0;\n",
       "      width: 32px;\n",
       "    }\n",
       "\n",
       "    .colab-df-convert:hover {\n",
       "      background-color: #E2EBFA;\n",
       "      box-shadow: 0px 1px 2px rgba(60, 64, 67, 0.3), 0px 1px 3px 1px rgba(60, 64, 67, 0.15);\n",
       "      fill: #174EA6;\n",
       "    }\n",
       "\n",
       "    [theme=dark] .colab-df-convert {\n",
       "      background-color: #3B4455;\n",
       "      fill: #D2E3FC;\n",
       "    }\n",
       "\n",
       "    [theme=dark] .colab-df-convert:hover {\n",
       "      background-color: #434B5C;\n",
       "      box-shadow: 0px 1px 3px 1px rgba(0, 0, 0, 0.15);\n",
       "      filter: drop-shadow(0px 1px 2px rgba(0, 0, 0, 0.3));\n",
       "      fill: #FFFFFF;\n",
       "    }\n",
       "  </style>\n",
       "\n",
       "      <script>\n",
       "        const buttonEl =\n",
       "          document.querySelector('#df-ea6c2ae7-09e2-404b-a907-187d6b5d39ef button.colab-df-convert');\n",
       "        buttonEl.style.display =\n",
       "          google.colab.kernel.accessAllowed ? 'block' : 'none';\n",
       "\n",
       "        async function convertToInteractive(key) {\n",
       "          const element = document.querySelector('#df-ea6c2ae7-09e2-404b-a907-187d6b5d39ef');\n",
       "          const dataTable =\n",
       "            await google.colab.kernel.invokeFunction('convertToInteractive',\n",
       "                                                     [key], {});\n",
       "          if (!dataTable) return;\n",
       "\n",
       "          const docLinkHtml = 'Like what you see? Visit the ' +\n",
       "            '<a target=\"_blank\" href=https://colab.research.google.com/notebooks/data_table.ipynb>data table notebook</a>'\n",
       "            + ' to learn more about interactive tables.';\n",
       "          element.innerHTML = '';\n",
       "          dataTable['output_type'] = 'display_data';\n",
       "          await google.colab.output.renderOutput(dataTable, element);\n",
       "          const docLink = document.createElement('div');\n",
       "          docLink.innerHTML = docLinkHtml;\n",
       "          element.appendChild(docLink);\n",
       "        }\n",
       "      </script>\n",
       "    </div>\n",
       "  </div>\n",
       "  "
      ]
     },
     "metadata": {},
     "execution_count": 8
    }
   ]
  },
  {
   "cell_type": "markdown",
   "source": [
    "Necessária uma normalização dos nomes do track"
   ],
   "metadata": {
    "id": "GowEUc1ewtnE",
    "pycharm": {
     "name": "#%% md\n"
    }
   }
  },
  {
   "cell_type": "code",
   "source": [
    "\n",
    "flatten_list = [item for sublist in parts_df.track_names.to_list() for item in sublist if item != '']\n",
    "\n",
    "print('size', len(flatten_list))\n",
    "sorted(Counter(flatten_list).items(), key=lambda pair: pair[1], reverse=True)\n",
    "\n"
   ],
   "metadata": {
    "colab": {
     "base_uri": "https://localhost:8080/"
    },
    "id": "yB-txbRzmPS8",
    "executionInfo": {
     "status": "ok",
     "timestamp": 1661626280988,
     "user_tz": 180,
     "elapsed": 11,
     "user": {
      "displayName": "Miguel",
      "userId": "03341687265919124027"
     }
    },
    "outputId": "77d80df1-94d5-4e0d-8c78-2b9ab42567dc",
    "pycharm": {
     "name": "#%%\n"
    }
   },
   "execution_count": 9,
   "outputs": [
    {
     "output_type": "stream",
     "name": "stdout",
     "text": [
      "size 767\n"
     ]
    },
    {
     "output_type": "execute_result",
     "data": {
      "text/plain": [
       "[('Piano Right', 110),\n",
       " ('Piano Left', 110),\n",
       " ('Violin1', 88),\n",
       " ('Cello', 79),\n",
       " ('Viola', 62),\n",
       " ('Violin2', 56),\n",
       " ('Piano', 28),\n",
       " ('Staff', 11),\n",
       " ('Staff-1', 11),\n",
       " ('Staff-2', 11),\n",
       " ('Staff-3', 11),\n",
       " ('Staff-4', 11),\n",
       " ('Contrabass', 6),\n",
       " ('Tempo Track', 5),\n",
       " ('Staff-5', 5),\n",
       " ('Viola 1', 4),\n",
       " ('Viola 2', 4),\n",
       " ('Cello 1', 4),\n",
       " ('Cello 2', 4),\n",
       " ('Sequenced by David Rothschild', 4),\n",
       " ('DavidRMD@usa.net', 4),\n",
       " ('http://redrival.com/fpo/archives', 4),\n",
       " ('Bb Clarinet 1', 4),\n",
       " ('Bb Clarinet 2', 4),\n",
       " ('R Treble', 4),\n",
       " ('L Bass', 4),\n",
       " ('Cembalo Right', 4),\n",
       " ('Cembalo Left', 4),\n",
       " ('Violin Sonata No. 7 in C Minor', 4),\n",
       " ('Op.30, No.2', 4),\n",
       " ('Ludwig Van Beethoven', 4),\n",
       " ('Seq. by Paul Falstad', 4),\n",
       " ('R Bass', 3),\n",
       " ('Bassoon 1', 3),\n",
       " ('Bassoon 2', 3),\n",
       " ('Solo Flute', 3),\n",
       " ('d', 3),\n",
       " ('g', 3),\n",
       " ('Klavier Right', 3),\n",
       " ('Klavier Left', 3),\n",
       " ('Klavier - Right (Sub)', 3),\n",
       " ('1e clarinette       ', 3),\n",
       " ('2e clarinette       ', 3),\n",
       " ('1e basson           ', 3),\n",
       " ('2e basson           ', 3),\n",
       " ('1e cor              ', 3),\n",
       " ('2e cor              ', 3),\n",
       " ('Flute', 2),\n",
       " ('Bassoon', 2),\n",
       " ('Horn in D', 2),\n",
       " ('L Treble', 2),\n",
       " ('Eb Horn 1', 2),\n",
       " ('Eb Horn 2', 2),\n",
       " ('s', 2),\n",
       " ('a-e', 2),\n",
       " ('1. Andante', 1),\n",
       " ('Andante', 1),\n",
       " ('No. 1', 1),\n",
       " ('grazioso', 1),\n",
       " ('String Ensemble 1', 1),\n",
       " ('Opus 20', 1),\n",
       " ('A Clarinet 1', 1),\n",
       " ('A Clarinet 2', 1),\n",
       " ('Violine I', 1),\n",
       " ('Violine II', 1),\n",
       " ('Viola I', 1),\n",
       " ('Viola II', 1),\n",
       " ('Violoncello I', 1),\n",
       " ('Violoncello II', 1),\n",
       " ('3. Adagio mesto', 1),\n",
       " ('2. Scherzo: Allegro', 1),\n",
       " ('4. Finale: Allegro con brio', 1),\n",
       " ('KV581B4', 1),\n",
       " ('KV581C4', 1),\n",
       " ('KV581D4', 1),\n",
       " ('Eb French Horn 1', 1),\n",
       " ('Eb French Horn 2', 1),\n",
       " ('m', 1),\n",
       " ('a1', 1),\n",
       " ('e', 1),\n",
       " ('a', 1),\n",
       " ('e-a-d-g', 1),\n",
       " ('Andante con variazioni dalla Sonata n°9 Op.47', 1),\n",
       " ('Adagio sostenuto dalla Sonata n°9 Op.47', 1),\n",
       " ('First Movement (Allegro Con Brio)', 1),\n",
       " ('Fourth Movement (Finale)', 1),\n",
       " ('Second Movement (Adagio Cantabile)', 1),\n",
       " ('Third Movement (Scherzo)', 1),\n",
       " ('Tempo', 1)]"
      ]
     },
     "metadata": {},
     "execution_count": 9
    }
   ]
  },
  {
   "cell_type": "code",
   "source": [
    "parts_df['track_names_str'] = parts_df.track_names.astype(str)\n",
    "parts_df.track_names_str.value_counts()"
   ],
   "metadata": {
    "colab": {
     "base_uri": "https://localhost:8080/"
    },
    "id": "7GHF1V-xaRLo",
    "executionInfo": {
     "status": "ok",
     "timestamp": 1661626280989,
     "user_tz": 180,
     "elapsed": 9,
     "user": {
      "displayName": "Miguel",
      "userId": "03341687265919124027"
     }
    },
    "outputId": "37d8d6aa-2e32-443f-b917-48389caf607a",
    "pycharm": {
     "name": "#%%\n"
    }
   },
   "execution_count": 10,
   "outputs": [
    {
     "output_type": "execute_result",
     "data": {
      "text/plain": [
       "['Piano Right', 'Piano Left']                                                                                                                       93\n",
       "['']                                                                                                                                                57\n",
       "['Violin1', 'Violin2', 'Viola', 'Cello']                                                                                                            49\n",
       "['Piano']                                                                                                                                           16\n",
       "['Cello']                                                                                                                                           12\n",
       "['Violin1', 'Piano Right', 'Piano Left']                                                                                                             9\n",
       "['Violin1', 'Piano']                                                                                                                                 7\n",
       "['Staff', 'Staff-1', 'Staff-2', 'Staff-3', 'Staff-4']                                                                                                6\n",
       "['Staff', 'Staff-1', 'Staff-2', 'Staff-3', 'Staff-4', 'Staff-5']                                                                                     5\n",
       "['Violin1', 'Cembalo Right', 'Cembalo Left']                                                                                                         4\n",
       "['Violin1', 'Viola', 'Cello', 'Contrabass', 'Piano']                                                                                                 4\n",
       "['Violin1', 'Viola', 'Cello', 'Piano Right', 'Piano Left']                                                                                           4\n",
       "['Cello', 'Piano Right', 'Piano Left']                                                                                                               4\n",
       "['Violin1', 'Violin2', 'Viola 1', 'Viola 2', 'Cello 1', 'Cello 2', 'Tempo Track']                                                                    4\n",
       "['Solo Flute']                                                                                                                                       3\n",
       "['1e clarinette       ', '2e clarinette       ', '1e basson           ', '2e basson           ', '1e cor              ', '2e cor              ']     3\n",
       "['Klavier Right', 'Klavier Left', 'Klavier - Right (Sub)']                                                                                           3\n",
       "['Violin1']                                                                                                                                          2\n",
       "['a-e', 'd', 'g']                                                                                                                                    2\n",
       "['R Treble', 'R Bass', 'L Treble', 'L Bass']                                                                                                         2\n",
       "['Bb Clarinet 1', 'Bb Clarinet 2', 'Eb Horn 1', 'Eb Horn 2', 'Bassoon 1', 'Bassoon 2']                                                               2\n",
       "['Violin2', 'Cello', 'Viola', 'Violin1']                                                                                                             2\n",
       "['R Treble', 'L Bass']                                                                                                                               1\n",
       "['R Treble', 'R Bass', 'L Bass']                                                                                                                     1\n",
       "['Violin1', 'Violin2', 'Viola', 'Cello', 'Tempo']                                                                                                    1\n",
       "['Violin Sonata No. 7 in C Minor', 'Op.30, No.2', 'Third Movement (Scherzo)', 'Ludwig Van Beethoven', 'Seq. by Paul Falstad']                        1\n",
       "['Violin Sonata No. 7 in C Minor', 'Op.30, No.2', 'Second Movement (Adagio Cantabile)', 'Ludwig Van Beethoven', 'Seq. by Paul Falstad', '']          1\n",
       "['Violin Sonata No. 7 in C Minor', 'Op.30, No.2', 'Fourth Movement (Finale)', 'Ludwig Van Beethoven', 'Seq. by Paul Falstad']                        1\n",
       "['Violin Sonata No. 7 in C Minor', 'Op.30, No.2', 'First Movement (Allegro Con Brio)', 'Ludwig Van Beethoven', 'Seq. by Paul Falstad']               1\n",
       "['1. Andante', 'Sequenced by David Rothschild', 'DavidRMD@usa.net', 'http://redrival.com/fpo/archives']                                              1\n",
       "['Adagio sostenuto dalla Sonata n°9 Op.47']                                                                                                          1\n",
       "['Andante con variazioni dalla Sonata n°9 Op.47']                                                                                                    1\n",
       "['', 'Andante']                                                                                                                                      1\n",
       "['', 'No. 1']                                                                                                                                        1\n",
       "['', 'grazioso']                                                                                                                                     1\n",
       "['Cello', 'String Ensemble 1', 'Piano']                                                                                                              1\n",
       "['', 'Opus 20']                                                                                                                                      1\n",
       "['e-a-d-g']                                                                                                                                          1\n",
       "['e', 'a', 'd', 'g']                                                                                                                                 1\n",
       "['Flute', 'Bassoon', 'Horn in D', 'Violin1', 'Viola', 'Cello', 'Contrabass', 'Bb Clarinet 1', 'Bb Clarinet 2']                                       1\n",
       "['a1']                                                                                                                                               1\n",
       "['Flute', 'A Clarinet 1', 'A Clarinet 2', 'Bassoon', 'Horn in D', 'Violin1', 'Viola', 'Cello', 'Contrabass']                                         1\n",
       "['s', 'm']                                                                                                                                           1\n",
       "['s']                                                                                                                                                1\n",
       "['Violine I', 'Violine II', 'Viola I', 'Viola II', 'Violoncello I', 'Violoncello II', 'Tempo Track']                                                 1\n",
       "['3. Adagio mesto', 'Sequenced by David Rothschild', 'DavidRMD@usa.net', 'http://redrival.com/fpo/archives']                                         1\n",
       "['2. Scherzo: Allegro', 'Sequenced by David Rothschild', 'DavidRMD@usa.net', 'http://redrival.com/fpo/archives']                                     1\n",
       "['Bb Clarinet 1', 'Bb Clarinet 2', 'Eb French Horn 1', 'Eb French Horn 2', 'Bassoon 1', 'Bassoon 2']                                                 1\n",
       "['4. Finale: Allegro con brio', 'Sequenced by David Rothschild', 'DavidRMD@usa.net', 'http://redrival.com/fpo/archives']                             1\n",
       "['KV581C4']                                                                                                                                          1\n",
       "['KV581B4']                                                                                                                                          1\n",
       "['KV581D4']                                                                                                                                          1\n",
       "Name: track_names_str, dtype: int64"
      ]
     },
     "metadata": {},
     "execution_count": 10
    }
   ]
  },
  {
   "cell_type": "code",
   "execution_count": 11,
   "metadata": {
    "executionInfo": {
     "elapsed": 6,
     "status": "ok",
     "timestamp": 1661626280989,
     "user": {
      "displayName": "Miguel",
      "userId": "03341687265919124027"
     },
     "user_tz": 180
    },
    "id": "NupJNDimF4oA",
    "pycharm": {
     "name": "#%%\n"
    }
   },
   "outputs": [],
   "source": [
    "\n",
    "just_mid_to_use = parts_df[parts_df.track_names_str.str.contains(r'^(?=.*Violin)(?=.*Viola)(?=.*Cello).*$|\\bPiano\\b', na=False, regex=True)] \n",
    "\n"
   ]
  },
  {
   "cell_type": "code",
   "source": [
    "just_mid_to_use"
   ],
   "metadata": {
    "colab": {
     "base_uri": "https://localhost:8080/",
     "height": 424
    },
    "id": "GmR9kEZKh5g0",
    "executionInfo": {
     "status": "ok",
     "timestamp": 1661626285022,
     "user_tz": 180,
     "elapsed": 4039,
     "user": {
      "displayName": "Miguel",
      "userId": "03341687265919124027"
     }
    },
    "outputId": "51ce0f87-fc91-48fe-d8b2-4a4e4ea4c72a",
    "pycharm": {
     "name": "#%%\n"
    }
   },
   "execution_count": 12,
   "outputs": [
    {
     "output_type": "execute_result",
     "data": {
      "text/plain": [
       "    composer_name           mid_name  \\\n",
       "0          Dvorak  1919_dvqt10m4.mid   \n",
       "1          Dvorak  1923_dvqt10m4.mid   \n",
       "3          Dvorak   1916_dvq10m1.mid   \n",
       "4          Dvorak  1922_dvqt10m3.mid   \n",
       "7          Dvorak  1918_dvqt10m3.mid   \n",
       "..            ...                ...   \n",
       "318         Ravel  2179_gr_rqtf3.mid   \n",
       "319         Faure  2167_gr_f45m2.mid   \n",
       "320         Faure  2169_gr_f45m4.mid   \n",
       "321         Faure  2166_gr_f45m1.mid   \n",
       "322         Faure  2168_gr_f45m3.mid   \n",
       "\n",
       "                                          track_names  \\\n",
       "0                    [Violin2, Cello, Viola, Violin1]   \n",
       "1                    [Violin2, Cello, Viola, Violin1]   \n",
       "3                    [Violin1, Violin2, Viola, Cello]   \n",
       "4                    [Violin1, Violin2, Viola, Cello]   \n",
       "7                    [Violin1, Violin2, Viola, Cello]   \n",
       "..                                                ...   \n",
       "318                  [Violin1, Violin2, Viola, Cello]   \n",
       "319  [Violin1, Viola, Cello, Piano Right, Piano Left]   \n",
       "320  [Violin1, Viola, Cello, Piano Right, Piano Left]   \n",
       "321  [Violin1, Viola, Cello, Piano Right, Piano Left]   \n",
       "322  [Violin1, Viola, Cello, Piano Right, Piano Left]   \n",
       "\n",
       "                                                 parts  \\\n",
       "0    {'Violin2': [[0, 0, 0, 0, 0, 0, 0, 0, 0, 0, 0,...   \n",
       "1    {'Violin2': [[0, 0, 0, 0, 0, 0, 0, 0, 0, 0, 0,...   \n",
       "3    {'Violin1': [[0, 0, 0, 0, 0, 0, 0, 0, 0, 0, 0,...   \n",
       "4    {'Violin1': [[0, 0, 0, 0, 0, 0, 0, 0, 0, 0, 0,...   \n",
       "7    {'Violin1': [[0, 0, 0, 0, 0, 0, 0, 0, 0, 0, 0,...   \n",
       "..                                                 ...   \n",
       "318  {'Violin1': [[0, 0, 0, 0, 0, 0, 0, 0, 0, 0, 0,...   \n",
       "319  {'Violin1': [[0, 0, 0, 0, 0, 0, 0, 0, 0, 0, 0,...   \n",
       "320  {'Violin1': [[0, 0, 0, 0, 0, 0, 0, 0, 0, 0, 0,...   \n",
       "321  {'Violin1': [[0, 0, 0, 0, 0, 0, 0, 0, 0, 0, 0,...   \n",
       "322  {'Violin1': [[0, 0, 0, 0, 0, 0, 0, 0, 0, 0, 0,...   \n",
       "\n",
       "                                       track_names_str  \n",
       "0             ['Violin2', 'Cello', 'Viola', 'Violin1']  \n",
       "1             ['Violin2', 'Cello', 'Viola', 'Violin1']  \n",
       "3             ['Violin1', 'Violin2', 'Viola', 'Cello']  \n",
       "4             ['Violin1', 'Violin2', 'Viola', 'Cello']  \n",
       "7             ['Violin1', 'Violin2', 'Viola', 'Cello']  \n",
       "..                                                 ...  \n",
       "318           ['Violin1', 'Violin2', 'Viola', 'Cello']  \n",
       "319  ['Violin1', 'Viola', 'Cello', 'Piano Right', '...  \n",
       "320  ['Violin1', 'Viola', 'Cello', 'Piano Right', '...  \n",
       "321  ['Violin1', 'Viola', 'Cello', 'Piano Right', '...  \n",
       "322  ['Violin1', 'Viola', 'Cello', 'Piano Right', '...  \n",
       "\n",
       "[196 rows x 5 columns]"
      ],
      "text/html": [
       "\n",
       "  <div id=\"df-725606e1-6cb7-4fe4-8599-4c3e83a6722b\">\n",
       "    <div class=\"colab-df-container\">\n",
       "      <div>\n",
       "<style scoped>\n",
       "    .dataframe tbody tr th:only-of-type {\n",
       "        vertical-align: middle;\n",
       "    }\n",
       "\n",
       "    .dataframe tbody tr th {\n",
       "        vertical-align: top;\n",
       "    }\n",
       "\n",
       "    .dataframe thead th {\n",
       "        text-align: right;\n",
       "    }\n",
       "</style>\n",
       "<table border=\"1\" class=\"dataframe\">\n",
       "  <thead>\n",
       "    <tr style=\"text-align: right;\">\n",
       "      <th></th>\n",
       "      <th>composer_name</th>\n",
       "      <th>mid_name</th>\n",
       "      <th>track_names</th>\n",
       "      <th>parts</th>\n",
       "      <th>track_names_str</th>\n",
       "    </tr>\n",
       "  </thead>\n",
       "  <tbody>\n",
       "    <tr>\n",
       "      <th>0</th>\n",
       "      <td>Dvorak</td>\n",
       "      <td>1919_dvqt10m4.mid</td>\n",
       "      <td>[Violin2, Cello, Viola, Violin1]</td>\n",
       "      <td>{'Violin2': [[0, 0, 0, 0, 0, 0, 0, 0, 0, 0, 0,...</td>\n",
       "      <td>['Violin2', 'Cello', 'Viola', 'Violin1']</td>\n",
       "    </tr>\n",
       "    <tr>\n",
       "      <th>1</th>\n",
       "      <td>Dvorak</td>\n",
       "      <td>1923_dvqt10m4.mid</td>\n",
       "      <td>[Violin2, Cello, Viola, Violin1]</td>\n",
       "      <td>{'Violin2': [[0, 0, 0, 0, 0, 0, 0, 0, 0, 0, 0,...</td>\n",
       "      <td>['Violin2', 'Cello', 'Viola', 'Violin1']</td>\n",
       "    </tr>\n",
       "    <tr>\n",
       "      <th>3</th>\n",
       "      <td>Dvorak</td>\n",
       "      <td>1916_dvq10m1.mid</td>\n",
       "      <td>[Violin1, Violin2, Viola, Cello]</td>\n",
       "      <td>{'Violin1': [[0, 0, 0, 0, 0, 0, 0, 0, 0, 0, 0,...</td>\n",
       "      <td>['Violin1', 'Violin2', 'Viola', 'Cello']</td>\n",
       "    </tr>\n",
       "    <tr>\n",
       "      <th>4</th>\n",
       "      <td>Dvorak</td>\n",
       "      <td>1922_dvqt10m3.mid</td>\n",
       "      <td>[Violin1, Violin2, Viola, Cello]</td>\n",
       "      <td>{'Violin1': [[0, 0, 0, 0, 0, 0, 0, 0, 0, 0, 0,...</td>\n",
       "      <td>['Violin1', 'Violin2', 'Viola', 'Cello']</td>\n",
       "    </tr>\n",
       "    <tr>\n",
       "      <th>7</th>\n",
       "      <td>Dvorak</td>\n",
       "      <td>1918_dvqt10m3.mid</td>\n",
       "      <td>[Violin1, Violin2, Viola, Cello]</td>\n",
       "      <td>{'Violin1': [[0, 0, 0, 0, 0, 0, 0, 0, 0, 0, 0,...</td>\n",
       "      <td>['Violin1', 'Violin2', 'Viola', 'Cello']</td>\n",
       "    </tr>\n",
       "    <tr>\n",
       "      <th>...</th>\n",
       "      <td>...</td>\n",
       "      <td>...</td>\n",
       "      <td>...</td>\n",
       "      <td>...</td>\n",
       "      <td>...</td>\n",
       "    </tr>\n",
       "    <tr>\n",
       "      <th>318</th>\n",
       "      <td>Ravel</td>\n",
       "      <td>2179_gr_rqtf3.mid</td>\n",
       "      <td>[Violin1, Violin2, Viola, Cello]</td>\n",
       "      <td>{'Violin1': [[0, 0, 0, 0, 0, 0, 0, 0, 0, 0, 0,...</td>\n",
       "      <td>['Violin1', 'Violin2', 'Viola', 'Cello']</td>\n",
       "    </tr>\n",
       "    <tr>\n",
       "      <th>319</th>\n",
       "      <td>Faure</td>\n",
       "      <td>2167_gr_f45m2.mid</td>\n",
       "      <td>[Violin1, Viola, Cello, Piano Right, Piano Left]</td>\n",
       "      <td>{'Violin1': [[0, 0, 0, 0, 0, 0, 0, 0, 0, 0, 0,...</td>\n",
       "      <td>['Violin1', 'Viola', 'Cello', 'Piano Right', '...</td>\n",
       "    </tr>\n",
       "    <tr>\n",
       "      <th>320</th>\n",
       "      <td>Faure</td>\n",
       "      <td>2169_gr_f45m4.mid</td>\n",
       "      <td>[Violin1, Viola, Cello, Piano Right, Piano Left]</td>\n",
       "      <td>{'Violin1': [[0, 0, 0, 0, 0, 0, 0, 0, 0, 0, 0,...</td>\n",
       "      <td>['Violin1', 'Viola', 'Cello', 'Piano Right', '...</td>\n",
       "    </tr>\n",
       "    <tr>\n",
       "      <th>321</th>\n",
       "      <td>Faure</td>\n",
       "      <td>2166_gr_f45m1.mid</td>\n",
       "      <td>[Violin1, Viola, Cello, Piano Right, Piano Left]</td>\n",
       "      <td>{'Violin1': [[0, 0, 0, 0, 0, 0, 0, 0, 0, 0, 0,...</td>\n",
       "      <td>['Violin1', 'Viola', 'Cello', 'Piano Right', '...</td>\n",
       "    </tr>\n",
       "    <tr>\n",
       "      <th>322</th>\n",
       "      <td>Faure</td>\n",
       "      <td>2168_gr_f45m3.mid</td>\n",
       "      <td>[Violin1, Viola, Cello, Piano Right, Piano Left]</td>\n",
       "      <td>{'Violin1': [[0, 0, 0, 0, 0, 0, 0, 0, 0, 0, 0,...</td>\n",
       "      <td>['Violin1', 'Viola', 'Cello', 'Piano Right', '...</td>\n",
       "    </tr>\n",
       "  </tbody>\n",
       "</table>\n",
       "<p>196 rows × 5 columns</p>\n",
       "</div>\n",
       "      <button class=\"colab-df-convert\" onclick=\"convertToInteractive('df-725606e1-6cb7-4fe4-8599-4c3e83a6722b')\"\n",
       "              title=\"Convert this dataframe to an interactive table.\"\n",
       "              style=\"display:none;\">\n",
       "        \n",
       "  <svg xmlns=\"http://www.w3.org/2000/svg\" height=\"24px\"viewBox=\"0 0 24 24\"\n",
       "       width=\"24px\">\n",
       "    <path d=\"M0 0h24v24H0V0z\" fill=\"none\"/>\n",
       "    <path d=\"M18.56 5.44l.94 2.06.94-2.06 2.06-.94-2.06-.94-.94-2.06-.94 2.06-2.06.94zm-11 1L8.5 8.5l.94-2.06 2.06-.94-2.06-.94L8.5 2.5l-.94 2.06-2.06.94zm10 10l.94 2.06.94-2.06 2.06-.94-2.06-.94-.94-2.06-.94 2.06-2.06.94z\"/><path d=\"M17.41 7.96l-1.37-1.37c-.4-.4-.92-.59-1.43-.59-.52 0-1.04.2-1.43.59L10.3 9.45l-7.72 7.72c-.78.78-.78 2.05 0 2.83L4 21.41c.39.39.9.59 1.41.59.51 0 1.02-.2 1.41-.59l7.78-7.78 2.81-2.81c.8-.78.8-2.07 0-2.86zM5.41 20L4 18.59l7.72-7.72 1.47 1.35L5.41 20z\"/>\n",
       "  </svg>\n",
       "      </button>\n",
       "      \n",
       "  <style>\n",
       "    .colab-df-container {\n",
       "      display:flex;\n",
       "      flex-wrap:wrap;\n",
       "      gap: 12px;\n",
       "    }\n",
       "\n",
       "    .colab-df-convert {\n",
       "      background-color: #E8F0FE;\n",
       "      border: none;\n",
       "      border-radius: 50%;\n",
       "      cursor: pointer;\n",
       "      display: none;\n",
       "      fill: #1967D2;\n",
       "      height: 32px;\n",
       "      padding: 0 0 0 0;\n",
       "      width: 32px;\n",
       "    }\n",
       "\n",
       "    .colab-df-convert:hover {\n",
       "      background-color: #E2EBFA;\n",
       "      box-shadow: 0px 1px 2px rgba(60, 64, 67, 0.3), 0px 1px 3px 1px rgba(60, 64, 67, 0.15);\n",
       "      fill: #174EA6;\n",
       "    }\n",
       "\n",
       "    [theme=dark] .colab-df-convert {\n",
       "      background-color: #3B4455;\n",
       "      fill: #D2E3FC;\n",
       "    }\n",
       "\n",
       "    [theme=dark] .colab-df-convert:hover {\n",
       "      background-color: #434B5C;\n",
       "      box-shadow: 0px 1px 3px 1px rgba(0, 0, 0, 0.15);\n",
       "      filter: drop-shadow(0px 1px 2px rgba(0, 0, 0, 0.3));\n",
       "      fill: #FFFFFF;\n",
       "    }\n",
       "  </style>\n",
       "\n",
       "      <script>\n",
       "        const buttonEl =\n",
       "          document.querySelector('#df-725606e1-6cb7-4fe4-8599-4c3e83a6722b button.colab-df-convert');\n",
       "        buttonEl.style.display =\n",
       "          google.colab.kernel.accessAllowed ? 'block' : 'none';\n",
       "\n",
       "        async function convertToInteractive(key) {\n",
       "          const element = document.querySelector('#df-725606e1-6cb7-4fe4-8599-4c3e83a6722b');\n",
       "          const dataTable =\n",
       "            await google.colab.kernel.invokeFunction('convertToInteractive',\n",
       "                                                     [key], {});\n",
       "          if (!dataTable) return;\n",
       "\n",
       "          const docLinkHtml = 'Like what you see? Visit the ' +\n",
       "            '<a target=\"_blank\" href=https://colab.research.google.com/notebooks/data_table.ipynb>data table notebook</a>'\n",
       "            + ' to learn more about interactive tables.';\n",
       "          element.innerHTML = '';\n",
       "          dataTable['output_type'] = 'display_data';\n",
       "          await google.colab.output.renderOutput(dataTable, element);\n",
       "          const docLink = document.createElement('div');\n",
       "          docLink.innerHTML = docLinkHtml;\n",
       "          element.appendChild(docLink);\n",
       "        }\n",
       "      </script>\n",
       "    </div>\n",
       "  </div>\n",
       "  "
      ]
     },
     "metadata": {},
     "execution_count": 12
    }
   ]
  },
  {
   "cell_type": "code",
   "source": [
    "flatten_list = [item for sublist in just_mid_to_use.track_names.to_list() for item in sublist if item != '']\n",
    "\n",
    "print('size', len(flatten_list))\n",
    "sorted(Counter(flatten_list).items(), key=lambda pair: pair[1], reverse=True)"
   ],
   "metadata": {
    "colab": {
     "base_uri": "https://localhost:8080/"
    },
    "id": "BcqVYS45h-wk",
    "executionInfo": {
     "status": "ok",
     "timestamp": 1661626285022,
     "user_tz": 180,
     "elapsed": 6,
     "user": {
      "displayName": "Miguel",
      "userId": "03341687265919124027"
     }
    },
    "outputId": "e921c95c-c186-4fdf-efbf-c78e9bbbe124",
    "pycharm": {
     "name": "#%%\n"
    }
   },
   "execution_count": 13,
   "outputs": [
    {
     "output_type": "stream",
     "name": "stdout",
     "text": [
      "size 553\n"
     ]
    },
    {
     "output_type": "execute_result",
     "data": {
      "text/plain": [
       "[('Piano Right', 110),\n",
       " ('Piano Left', 110),\n",
       " ('Violin1', 82),\n",
       " ('Cello', 67),\n",
       " ('Viola', 62),\n",
       " ('Violin2', 56),\n",
       " ('Piano', 28),\n",
       " ('Contrabass', 6),\n",
       " ('Viola 1', 4),\n",
       " ('Viola 2', 4),\n",
       " ('Cello 1', 4),\n",
       " ('Cello 2', 4),\n",
       " ('Tempo Track', 4),\n",
       " ('Flute', 2),\n",
       " ('Bassoon', 2),\n",
       " ('Horn in D', 2),\n",
       " ('String Ensemble 1', 1),\n",
       " ('Bb Clarinet 1', 1),\n",
       " ('Bb Clarinet 2', 1),\n",
       " ('A Clarinet 1', 1),\n",
       " ('A Clarinet 2', 1),\n",
       " ('Tempo', 1)]"
      ]
     },
     "metadata": {},
     "execution_count": 13
    }
   ]
  },
  {
   "cell_type": "code",
   "source": [
    "series_list = pd.Series(flatten_list)\n",
    "list(set(series_list[~series_list.str.contains('Violin|Viola|Piano|Cello')].to_list()))"
   ],
   "metadata": {
    "colab": {
     "base_uri": "https://localhost:8080/"
    },
    "id": "73W8A3VGMKB_",
    "executionInfo": {
     "status": "ok",
     "timestamp": 1661626285023,
     "user_tz": 180,
     "elapsed": 5,
     "user": {
      "displayName": "Miguel",
      "userId": "03341687265919124027"
     }
    },
    "outputId": "dcddcd4c-f0a9-4b45-b0ea-ed86d2640e63",
    "pycharm": {
     "name": "#%%\n"
    }
   },
   "execution_count": 14,
   "outputs": [
    {
     "output_type": "execute_result",
     "data": {
      "text/plain": [
       "['Bassoon',\n",
       " 'Tempo',\n",
       " 'Horn in D',\n",
       " 'Bb Clarinet 1',\n",
       " 'Bb Clarinet 2',\n",
       " 'String Ensemble 1',\n",
       " 'Contrabass',\n",
       " 'A Clarinet 2',\n",
       " 'A Clarinet 1',\n",
       " 'Tempo Track',\n",
       " 'Flute']"
      ]
     },
     "metadata": {},
     "execution_count": 14
    }
   ]
  },
  {
   "cell_type": "code",
   "source": [
    "to_remove = 'Bb Clarinet 1|Bb Clarinet 2|Tempo|Contrabass|Flute|A Clarinet 1|Horn in D|String Ensemble 1|Bassoon|Tempo Track|A Clarinet 2'\n",
    "just_mid_to_use = just_mid_to_use[~just_mid_to_use.track_names_str.str.contains(to_remove, na=False)]\n",
    "just_mid_to_use"
   ],
   "metadata": {
    "colab": {
     "base_uri": "https://localhost:8080/",
     "height": 424
    },
    "id": "3PGG7yncQE26",
    "executionInfo": {
     "status": "ok",
     "timestamp": 1661626288974,
     "user_tz": 180,
     "elapsed": 3954,
     "user": {
      "displayName": "Miguel",
      "userId": "03341687265919124027"
     }
    },
    "outputId": "99e2b371-e451-44c5-b83e-8db3148ae96f",
    "pycharm": {
     "name": "#%%\n"
    }
   },
   "execution_count": 15,
   "outputs": [
    {
     "output_type": "execute_result",
     "data": {
      "text/plain": [
       "    composer_name           mid_name  \\\n",
       "0          Dvorak  1919_dvqt10m4.mid   \n",
       "1          Dvorak  1923_dvqt10m4.mid   \n",
       "3          Dvorak   1916_dvq10m1.mid   \n",
       "4          Dvorak  1922_dvqt10m3.mid   \n",
       "7          Dvorak  1918_dvqt10m3.mid   \n",
       "..            ...                ...   \n",
       "318         Ravel  2179_gr_rqtf3.mid   \n",
       "319         Faure  2167_gr_f45m2.mid   \n",
       "320         Faure  2169_gr_f45m4.mid   \n",
       "321         Faure  2166_gr_f45m1.mid   \n",
       "322         Faure  2168_gr_f45m3.mid   \n",
       "\n",
       "                                          track_names  \\\n",
       "0                    [Violin2, Cello, Viola, Violin1]   \n",
       "1                    [Violin2, Cello, Viola, Violin1]   \n",
       "3                    [Violin1, Violin2, Viola, Cello]   \n",
       "4                    [Violin1, Violin2, Viola, Cello]   \n",
       "7                    [Violin1, Violin2, Viola, Cello]   \n",
       "..                                                ...   \n",
       "318                  [Violin1, Violin2, Viola, Cello]   \n",
       "319  [Violin1, Viola, Cello, Piano Right, Piano Left]   \n",
       "320  [Violin1, Viola, Cello, Piano Right, Piano Left]   \n",
       "321  [Violin1, Viola, Cello, Piano Right, Piano Left]   \n",
       "322  [Violin1, Viola, Cello, Piano Right, Piano Left]   \n",
       "\n",
       "                                                 parts  \\\n",
       "0    {'Violin2': [[0, 0, 0, 0, 0, 0, 0, 0, 0, 0, 0,...   \n",
       "1    {'Violin2': [[0, 0, 0, 0, 0, 0, 0, 0, 0, 0, 0,...   \n",
       "3    {'Violin1': [[0, 0, 0, 0, 0, 0, 0, 0, 0, 0, 0,...   \n",
       "4    {'Violin1': [[0, 0, 0, 0, 0, 0, 0, 0, 0, 0, 0,...   \n",
       "7    {'Violin1': [[0, 0, 0, 0, 0, 0, 0, 0, 0, 0, 0,...   \n",
       "..                                                 ...   \n",
       "318  {'Violin1': [[0, 0, 0, 0, 0, 0, 0, 0, 0, 0, 0,...   \n",
       "319  {'Violin1': [[0, 0, 0, 0, 0, 0, 0, 0, 0, 0, 0,...   \n",
       "320  {'Violin1': [[0, 0, 0, 0, 0, 0, 0, 0, 0, 0, 0,...   \n",
       "321  {'Violin1': [[0, 0, 0, 0, 0, 0, 0, 0, 0, 0, 0,...   \n",
       "322  {'Violin1': [[0, 0, 0, 0, 0, 0, 0, 0, 0, 0, 0,...   \n",
       "\n",
       "                                       track_names_str  \n",
       "0             ['Violin2', 'Cello', 'Viola', 'Violin1']  \n",
       "1             ['Violin2', 'Cello', 'Viola', 'Violin1']  \n",
       "3             ['Violin1', 'Violin2', 'Viola', 'Cello']  \n",
       "4             ['Violin1', 'Violin2', 'Viola', 'Cello']  \n",
       "7             ['Violin1', 'Violin2', 'Viola', 'Cello']  \n",
       "..                                                 ...  \n",
       "318           ['Violin1', 'Violin2', 'Viola', 'Cello']  \n",
       "319  ['Violin1', 'Viola', 'Cello', 'Piano Right', '...  \n",
       "320  ['Violin1', 'Viola', 'Cello', 'Piano Right', '...  \n",
       "321  ['Violin1', 'Viola', 'Cello', 'Piano Right', '...  \n",
       "322  ['Violin1', 'Viola', 'Cello', 'Piano Right', '...  \n",
       "\n",
       "[184 rows x 5 columns]"
      ],
      "text/html": [
       "\n",
       "  <div id=\"df-289afa34-bf74-497a-88ed-aaf0bf7b3b8d\">\n",
       "    <div class=\"colab-df-container\">\n",
       "      <div>\n",
       "<style scoped>\n",
       "    .dataframe tbody tr th:only-of-type {\n",
       "        vertical-align: middle;\n",
       "    }\n",
       "\n",
       "    .dataframe tbody tr th {\n",
       "        vertical-align: top;\n",
       "    }\n",
       "\n",
       "    .dataframe thead th {\n",
       "        text-align: right;\n",
       "    }\n",
       "</style>\n",
       "<table border=\"1\" class=\"dataframe\">\n",
       "  <thead>\n",
       "    <tr style=\"text-align: right;\">\n",
       "      <th></th>\n",
       "      <th>composer_name</th>\n",
       "      <th>mid_name</th>\n",
       "      <th>track_names</th>\n",
       "      <th>parts</th>\n",
       "      <th>track_names_str</th>\n",
       "    </tr>\n",
       "  </thead>\n",
       "  <tbody>\n",
       "    <tr>\n",
       "      <th>0</th>\n",
       "      <td>Dvorak</td>\n",
       "      <td>1919_dvqt10m4.mid</td>\n",
       "      <td>[Violin2, Cello, Viola, Violin1]</td>\n",
       "      <td>{'Violin2': [[0, 0, 0, 0, 0, 0, 0, 0, 0, 0, 0,...</td>\n",
       "      <td>['Violin2', 'Cello', 'Viola', 'Violin1']</td>\n",
       "    </tr>\n",
       "    <tr>\n",
       "      <th>1</th>\n",
       "      <td>Dvorak</td>\n",
       "      <td>1923_dvqt10m4.mid</td>\n",
       "      <td>[Violin2, Cello, Viola, Violin1]</td>\n",
       "      <td>{'Violin2': [[0, 0, 0, 0, 0, 0, 0, 0, 0, 0, 0,...</td>\n",
       "      <td>['Violin2', 'Cello', 'Viola', 'Violin1']</td>\n",
       "    </tr>\n",
       "    <tr>\n",
       "      <th>3</th>\n",
       "      <td>Dvorak</td>\n",
       "      <td>1916_dvq10m1.mid</td>\n",
       "      <td>[Violin1, Violin2, Viola, Cello]</td>\n",
       "      <td>{'Violin1': [[0, 0, 0, 0, 0, 0, 0, 0, 0, 0, 0,...</td>\n",
       "      <td>['Violin1', 'Violin2', 'Viola', 'Cello']</td>\n",
       "    </tr>\n",
       "    <tr>\n",
       "      <th>4</th>\n",
       "      <td>Dvorak</td>\n",
       "      <td>1922_dvqt10m3.mid</td>\n",
       "      <td>[Violin1, Violin2, Viola, Cello]</td>\n",
       "      <td>{'Violin1': [[0, 0, 0, 0, 0, 0, 0, 0, 0, 0, 0,...</td>\n",
       "      <td>['Violin1', 'Violin2', 'Viola', 'Cello']</td>\n",
       "    </tr>\n",
       "    <tr>\n",
       "      <th>7</th>\n",
       "      <td>Dvorak</td>\n",
       "      <td>1918_dvqt10m3.mid</td>\n",
       "      <td>[Violin1, Violin2, Viola, Cello]</td>\n",
       "      <td>{'Violin1': [[0, 0, 0, 0, 0, 0, 0, 0, 0, 0, 0,...</td>\n",
       "      <td>['Violin1', 'Violin2', 'Viola', 'Cello']</td>\n",
       "    </tr>\n",
       "    <tr>\n",
       "      <th>...</th>\n",
       "      <td>...</td>\n",
       "      <td>...</td>\n",
       "      <td>...</td>\n",
       "      <td>...</td>\n",
       "      <td>...</td>\n",
       "    </tr>\n",
       "    <tr>\n",
       "      <th>318</th>\n",
       "      <td>Ravel</td>\n",
       "      <td>2179_gr_rqtf3.mid</td>\n",
       "      <td>[Violin1, Violin2, Viola, Cello]</td>\n",
       "      <td>{'Violin1': [[0, 0, 0, 0, 0, 0, 0, 0, 0, 0, 0,...</td>\n",
       "      <td>['Violin1', 'Violin2', 'Viola', 'Cello']</td>\n",
       "    </tr>\n",
       "    <tr>\n",
       "      <th>319</th>\n",
       "      <td>Faure</td>\n",
       "      <td>2167_gr_f45m2.mid</td>\n",
       "      <td>[Violin1, Viola, Cello, Piano Right, Piano Left]</td>\n",
       "      <td>{'Violin1': [[0, 0, 0, 0, 0, 0, 0, 0, 0, 0, 0,...</td>\n",
       "      <td>['Violin1', 'Viola', 'Cello', 'Piano Right', '...</td>\n",
       "    </tr>\n",
       "    <tr>\n",
       "      <th>320</th>\n",
       "      <td>Faure</td>\n",
       "      <td>2169_gr_f45m4.mid</td>\n",
       "      <td>[Violin1, Viola, Cello, Piano Right, Piano Left]</td>\n",
       "      <td>{'Violin1': [[0, 0, 0, 0, 0, 0, 0, 0, 0, 0, 0,...</td>\n",
       "      <td>['Violin1', 'Viola', 'Cello', 'Piano Right', '...</td>\n",
       "    </tr>\n",
       "    <tr>\n",
       "      <th>321</th>\n",
       "      <td>Faure</td>\n",
       "      <td>2166_gr_f45m1.mid</td>\n",
       "      <td>[Violin1, Viola, Cello, Piano Right, Piano Left]</td>\n",
       "      <td>{'Violin1': [[0, 0, 0, 0, 0, 0, 0, 0, 0, 0, 0,...</td>\n",
       "      <td>['Violin1', 'Viola', 'Cello', 'Piano Right', '...</td>\n",
       "    </tr>\n",
       "    <tr>\n",
       "      <th>322</th>\n",
       "      <td>Faure</td>\n",
       "      <td>2168_gr_f45m3.mid</td>\n",
       "      <td>[Violin1, Viola, Cello, Piano Right, Piano Left]</td>\n",
       "      <td>{'Violin1': [[0, 0, 0, 0, 0, 0, 0, 0, 0, 0, 0,...</td>\n",
       "      <td>['Violin1', 'Viola', 'Cello', 'Piano Right', '...</td>\n",
       "    </tr>\n",
       "  </tbody>\n",
       "</table>\n",
       "<p>184 rows × 5 columns</p>\n",
       "</div>\n",
       "      <button class=\"colab-df-convert\" onclick=\"convertToInteractive('df-289afa34-bf74-497a-88ed-aaf0bf7b3b8d')\"\n",
       "              title=\"Convert this dataframe to an interactive table.\"\n",
       "              style=\"display:none;\">\n",
       "        \n",
       "  <svg xmlns=\"http://www.w3.org/2000/svg\" height=\"24px\"viewBox=\"0 0 24 24\"\n",
       "       width=\"24px\">\n",
       "    <path d=\"M0 0h24v24H0V0z\" fill=\"none\"/>\n",
       "    <path d=\"M18.56 5.44l.94 2.06.94-2.06 2.06-.94-2.06-.94-.94-2.06-.94 2.06-2.06.94zm-11 1L8.5 8.5l.94-2.06 2.06-.94-2.06-.94L8.5 2.5l-.94 2.06-2.06.94zm10 10l.94 2.06.94-2.06 2.06-.94-2.06-.94-.94-2.06-.94 2.06-2.06.94z\"/><path d=\"M17.41 7.96l-1.37-1.37c-.4-.4-.92-.59-1.43-.59-.52 0-1.04.2-1.43.59L10.3 9.45l-7.72 7.72c-.78.78-.78 2.05 0 2.83L4 21.41c.39.39.9.59 1.41.59.51 0 1.02-.2 1.41-.59l7.78-7.78 2.81-2.81c.8-.78.8-2.07 0-2.86zM5.41 20L4 18.59l7.72-7.72 1.47 1.35L5.41 20z\"/>\n",
       "  </svg>\n",
       "      </button>\n",
       "      \n",
       "  <style>\n",
       "    .colab-df-container {\n",
       "      display:flex;\n",
       "      flex-wrap:wrap;\n",
       "      gap: 12px;\n",
       "    }\n",
       "\n",
       "    .colab-df-convert {\n",
       "      background-color: #E8F0FE;\n",
       "      border: none;\n",
       "      border-radius: 50%;\n",
       "      cursor: pointer;\n",
       "      display: none;\n",
       "      fill: #1967D2;\n",
       "      height: 32px;\n",
       "      padding: 0 0 0 0;\n",
       "      width: 32px;\n",
       "    }\n",
       "\n",
       "    .colab-df-convert:hover {\n",
       "      background-color: #E2EBFA;\n",
       "      box-shadow: 0px 1px 2px rgba(60, 64, 67, 0.3), 0px 1px 3px 1px rgba(60, 64, 67, 0.15);\n",
       "      fill: #174EA6;\n",
       "    }\n",
       "\n",
       "    [theme=dark] .colab-df-convert {\n",
       "      background-color: #3B4455;\n",
       "      fill: #D2E3FC;\n",
       "    }\n",
       "\n",
       "    [theme=dark] .colab-df-convert:hover {\n",
       "      background-color: #434B5C;\n",
       "      box-shadow: 0px 1px 3px 1px rgba(0, 0, 0, 0.15);\n",
       "      filter: drop-shadow(0px 1px 2px rgba(0, 0, 0, 0.3));\n",
       "      fill: #FFFFFF;\n",
       "    }\n",
       "  </style>\n",
       "\n",
       "      <script>\n",
       "        const buttonEl =\n",
       "          document.querySelector('#df-289afa34-bf74-497a-88ed-aaf0bf7b3b8d button.colab-df-convert');\n",
       "        buttonEl.style.display =\n",
       "          google.colab.kernel.accessAllowed ? 'block' : 'none';\n",
       "\n",
       "        async function convertToInteractive(key) {\n",
       "          const element = document.querySelector('#df-289afa34-bf74-497a-88ed-aaf0bf7b3b8d');\n",
       "          const dataTable =\n",
       "            await google.colab.kernel.invokeFunction('convertToInteractive',\n",
       "                                                     [key], {});\n",
       "          if (!dataTable) return;\n",
       "\n",
       "          const docLinkHtml = 'Like what you see? Visit the ' +\n",
       "            '<a target=\"_blank\" href=https://colab.research.google.com/notebooks/data_table.ipynb>data table notebook</a>'\n",
       "            + ' to learn more about interactive tables.';\n",
       "          element.innerHTML = '';\n",
       "          dataTable['output_type'] = 'display_data';\n",
       "          await google.colab.output.renderOutput(dataTable, element);\n",
       "          const docLink = document.createElement('div');\n",
       "          docLink.innerHTML = docLinkHtml;\n",
       "          element.appendChild(docLink);\n",
       "        }\n",
       "      </script>\n",
       "    </div>\n",
       "  </div>\n",
       "  "
      ]
     },
     "metadata": {},
     "execution_count": 15
    }
   ]
  },
  {
   "cell_type": "code",
   "source": [
    "just_mid_to_use.track_names_str.value_counts()"
   ],
   "metadata": {
    "colab": {
     "base_uri": "https://localhost:8080/"
    },
    "id": "WYu6qf1dXjR9",
    "executionInfo": {
     "status": "ok",
     "timestamp": 1661626288975,
     "user_tz": 180,
     "elapsed": 13,
     "user": {
      "displayName": "Miguel",
      "userId": "03341687265919124027"
     }
    },
    "outputId": "7168e078-b9c2-479c-d7b3-531caa3b5aa8",
    "pycharm": {
     "name": "#%%\n"
    }
   },
   "execution_count": 16,
   "outputs": [
    {
     "output_type": "execute_result",
     "data": {
      "text/plain": [
       "['Piano Right', 'Piano Left']                                 93\n",
       "['Violin1', 'Violin2', 'Viola', 'Cello']                      49\n",
       "['Piano']                                                     16\n",
       "['Violin1', 'Piano Right', 'Piano Left']                       9\n",
       "['Violin1', 'Piano']                                           7\n",
       "['Cello', 'Piano Right', 'Piano Left']                         4\n",
       "['Violin1', 'Viola', 'Cello', 'Piano Right', 'Piano Left']     4\n",
       "['Violin2', 'Cello', 'Viola', 'Violin1']                       2\n",
       "Name: track_names_str, dtype: int64"
      ]
     },
     "metadata": {},
     "execution_count": 16
    }
   ]
  },
  {
   "cell_type": "code",
   "source": [
    "just_mid_to_use.loc[just_mid_to_use.track_names_str == \"['Piano Right', 'Piano Left']\", 'conjunto'] = 'Piano'\n",
    "just_mid_to_use.loc[just_mid_to_use.track_names_str == \"['Piano']\", 'conjunto'] = 'Piano'\n",
    "just_mid_to_use.loc[just_mid_to_use.track_names_str == \"['Violin1', 'Violin2', 'Viola', 'Cello']\", 'conjunto'] = 'Quarteto de cordas'\n",
    "just_mid_to_use.loc[just_mid_to_use.track_names_str == \"['Violin2', 'Cello', 'Viola', 'Violin1']\", 'conjunto'] = 'Quarteto de cordas'\n",
    "just_mid_to_use.loc[just_mid_to_use.track_names_str == \"['Violin', 'Viola', 'Cello', 'Piano Right', 'Piano Left']\", 'conjunto'] = 'Quarteto de Piano'\n",
    "just_mid_to_use.loc[just_mid_to_use.track_names_str == \"['Violin1', 'Viola', 'Cello', 'Piano Right', 'Piano Left']\", 'conjunto'] = 'Quarteto de Piano'\n",
    "just_mid_to_use.loc[just_mid_to_use.track_names_str == \"['Violin1', 'Piano']\", 'conjunto'] = 'Violino Acompanhado'\n",
    "just_mid_to_use.loc[just_mid_to_use.track_names_str == \"['Violin1', 'Piano Right', 'Piano Left']\", 'conjunto'] = 'Violino Acompanhado'\n",
    "just_mid_to_use.loc[just_mid_to_use.track_names_str == \"['Cello', 'Piano Right', 'Piano Left']\", 'conjunto'] = 'Violoncelo Acompanhado'"
   ],
   "metadata": {
    "colab": {
     "base_uri": "https://localhost:8080/"
    },
    "id": "PiBk53ajcN4_",
    "executionInfo": {
     "status": "ok",
     "timestamp": 1661626288975,
     "user_tz": 180,
     "elapsed": 11,
     "user": {
      "displayName": "Miguel",
      "userId": "03341687265919124027"
     }
    },
    "outputId": "839a9505-c2f4-4f9f-c8bc-33abea4c3fdd",
    "pycharm": {
     "name": "#%%\n"
    }
   },
   "execution_count": 17,
   "outputs": [
    {
     "output_type": "stream",
     "name": "stderr",
     "text": [
      "/usr/local/lib/python3.7/dist-packages/pandas/core/indexing.py:1684: SettingWithCopyWarning: \n",
      "A value is trying to be set on a copy of a slice from a DataFrame.\n",
      "Try using .loc[row_indexer,col_indexer] = value instead\n",
      "\n",
      "See the caveats in the documentation: https://pandas.pydata.org/pandas-docs/stable/user_guide/indexing.html#returning-a-view-versus-a-copy\n",
      "  self.obj[key] = infer_fill_value(value)\n",
      "/usr/local/lib/python3.7/dist-packages/pandas/core/indexing.py:1817: SettingWithCopyWarning: \n",
      "A value is trying to be set on a copy of a slice from a DataFrame.\n",
      "Try using .loc[row_indexer,col_indexer] = value instead\n",
      "\n",
      "See the caveats in the documentation: https://pandas.pydata.org/pandas-docs/stable/user_guide/indexing.html#returning-a-view-versus-a-copy\n",
      "  self._setitem_single_column(loc, value, pi)\n"
     ]
    }
   ]
  },
  {
   "cell_type": "code",
   "source": [
    "processed_path = os.path.join(input_path, '01_preprocessed')\n",
    "just_mid_to_use.to_csv(os.path.join(processed_path, 'preprocessed_dataset_test.csv'), index=False)"
   ],
   "metadata": {
    "id": "_kHre7pOmX1v",
    "executionInfo": {
     "status": "error",
     "timestamp": 1661626884113,
     "user_tz": 180,
     "elapsed": 239,
     "user": {
      "displayName": "Miguel",
      "userId": "03341687265919124027"
     }
    },
    "colab": {
     "base_uri": "https://localhost:8080/",
     "height": 241
    },
    "outputId": "fa343163-9697-418a-ac09-22facf4d3bf1",
    "pycharm": {
     "name": "#%%\n"
    }
   },
   "execution_count": 50,
   "outputs": [
    {
     "output_type": "error",
     "ename": "ArrowInvalid",
     "evalue": "ignored",
     "traceback": [
      "\u001B[0;31m---------------------------------------------------------------------------\u001B[0m",
      "\u001B[0;31mArrowInvalid\u001B[0m                              Traceback (most recent call last)",
      "\u001B[0;32m<ipython-input-50-3762f71c1b72>\u001B[0m in \u001B[0;36m<module>\u001B[0;34m\u001B[0m\n\u001B[1;32m      1\u001B[0m \u001B[0mprocessed_path\u001B[0m \u001B[0;34m=\u001B[0m \u001B[0mos\u001B[0m\u001B[0;34m.\u001B[0m\u001B[0mpath\u001B[0m\u001B[0;34m.\u001B[0m\u001B[0mjoin\u001B[0m\u001B[0;34m(\u001B[0m\u001B[0minput_path\u001B[0m\u001B[0;34m,\u001B[0m \u001B[0;34m'01_preprocessed'\u001B[0m\u001B[0;34m)\u001B[0m\u001B[0;34m\u001B[0m\u001B[0;34m\u001B[0m\u001B[0m\n\u001B[0;32m----> 2\u001B[0;31m \u001B[0mjust_mid_to_use\u001B[0m\u001B[0;34m.\u001B[0m\u001B[0mto_parquet\u001B[0m\u001B[0;34m(\u001B[0m\u001B[0mos\u001B[0m\u001B[0;34m.\u001B[0m\u001B[0mpath\u001B[0m\u001B[0;34m.\u001B[0m\u001B[0mjoin\u001B[0m\u001B[0;34m(\u001B[0m\u001B[0mprocessed_path\u001B[0m\u001B[0;34m,\u001B[0m \u001B[0;34m'preprocessed_dataset_test.parquet'\u001B[0m\u001B[0;34m)\u001B[0m\u001B[0;34m,\u001B[0m \u001B[0mindex\u001B[0m\u001B[0;34m=\u001B[0m\u001B[0;32mFalse\u001B[0m\u001B[0;34m)\u001B[0m\u001B[0;34m\u001B[0m\u001B[0;34m\u001B[0m\u001B[0m\n\u001B[0m",
      "\u001B[0;32m/usr/local/lib/python3.7/dist-packages/pandas/util/_decorators.py\u001B[0m in \u001B[0;36mwrapper\u001B[0;34m(*args, **kwargs)\u001B[0m\n\u001B[1;32m    205\u001B[0m                 \u001B[0;32melse\u001B[0m\u001B[0;34m:\u001B[0m\u001B[0;34m\u001B[0m\u001B[0;34m\u001B[0m\u001B[0m\n\u001B[1;32m    206\u001B[0m                     \u001B[0mkwargs\u001B[0m\u001B[0;34m[\u001B[0m\u001B[0mnew_arg_name\u001B[0m\u001B[0;34m]\u001B[0m \u001B[0;34m=\u001B[0m \u001B[0mnew_arg_value\u001B[0m\u001B[0;34m\u001B[0m\u001B[0;34m\u001B[0m\u001B[0m\n\u001B[0;32m--> 207\u001B[0;31m             \u001B[0;32mreturn\u001B[0m \u001B[0mfunc\u001B[0m\u001B[0;34m(\u001B[0m\u001B[0;34m*\u001B[0m\u001B[0margs\u001B[0m\u001B[0;34m,\u001B[0m \u001B[0;34m**\u001B[0m\u001B[0mkwargs\u001B[0m\u001B[0;34m)\u001B[0m\u001B[0;34m\u001B[0m\u001B[0;34m\u001B[0m\u001B[0m\n\u001B[0m\u001B[1;32m    208\u001B[0m \u001B[0;34m\u001B[0m\u001B[0m\n\u001B[1;32m    209\u001B[0m         \u001B[0;32mreturn\u001B[0m \u001B[0mcast\u001B[0m\u001B[0;34m(\u001B[0m\u001B[0mF\u001B[0m\u001B[0;34m,\u001B[0m \u001B[0mwrapper\u001B[0m\u001B[0;34m)\u001B[0m\u001B[0;34m\u001B[0m\u001B[0;34m\u001B[0m\u001B[0m\n",
      "\u001B[0;32m/usr/local/lib/python3.7/dist-packages/pandas/core/frame.py\u001B[0m in \u001B[0;36mto_parquet\u001B[0;34m(self, path, engine, compression, index, partition_cols, storage_options, **kwargs)\u001B[0m\n\u001B[1;32m   2683\u001B[0m             \u001B[0mpartition_cols\u001B[0m\u001B[0;34m=\u001B[0m\u001B[0mpartition_cols\u001B[0m\u001B[0;34m,\u001B[0m\u001B[0;34m\u001B[0m\u001B[0;34m\u001B[0m\u001B[0m\n\u001B[1;32m   2684\u001B[0m             \u001B[0mstorage_options\u001B[0m\u001B[0;34m=\u001B[0m\u001B[0mstorage_options\u001B[0m\u001B[0;34m,\u001B[0m\u001B[0;34m\u001B[0m\u001B[0;34m\u001B[0m\u001B[0m\n\u001B[0;32m-> 2685\u001B[0;31m             \u001B[0;34m**\u001B[0m\u001B[0mkwargs\u001B[0m\u001B[0;34m,\u001B[0m\u001B[0;34m\u001B[0m\u001B[0;34m\u001B[0m\u001B[0m\n\u001B[0m\u001B[1;32m   2686\u001B[0m         )\n\u001B[1;32m   2687\u001B[0m \u001B[0;34m\u001B[0m\u001B[0m\n",
      "\u001B[0;32m/usr/local/lib/python3.7/dist-packages/pandas/io/parquet.py\u001B[0m in \u001B[0;36mto_parquet\u001B[0;34m(df, path, engine, compression, index, storage_options, partition_cols, **kwargs)\u001B[0m\n\u001B[1;32m    421\u001B[0m         \u001B[0mpartition_cols\u001B[0m\u001B[0;34m=\u001B[0m\u001B[0mpartition_cols\u001B[0m\u001B[0;34m,\u001B[0m\u001B[0;34m\u001B[0m\u001B[0;34m\u001B[0m\u001B[0m\n\u001B[1;32m    422\u001B[0m         \u001B[0mstorage_options\u001B[0m\u001B[0;34m=\u001B[0m\u001B[0mstorage_options\u001B[0m\u001B[0;34m,\u001B[0m\u001B[0;34m\u001B[0m\u001B[0;34m\u001B[0m\u001B[0m\n\u001B[0;32m--> 423\u001B[0;31m         \u001B[0;34m**\u001B[0m\u001B[0mkwargs\u001B[0m\u001B[0;34m,\u001B[0m\u001B[0;34m\u001B[0m\u001B[0;34m\u001B[0m\u001B[0m\n\u001B[0m\u001B[1;32m    424\u001B[0m     )\n\u001B[1;32m    425\u001B[0m \u001B[0;34m\u001B[0m\u001B[0m\n",
      "\u001B[0;32m/usr/local/lib/python3.7/dist-packages/pandas/io/parquet.py\u001B[0m in \u001B[0;36mwrite\u001B[0;34m(self, df, path, compression, index, storage_options, partition_cols, **kwargs)\u001B[0m\n\u001B[1;32m    171\u001B[0m             \u001B[0mfrom_pandas_kwargs\u001B[0m\u001B[0;34m[\u001B[0m\u001B[0;34m\"preserve_index\"\u001B[0m\u001B[0;34m]\u001B[0m \u001B[0;34m=\u001B[0m \u001B[0mindex\u001B[0m\u001B[0;34m\u001B[0m\u001B[0;34m\u001B[0m\u001B[0m\n\u001B[1;32m    172\u001B[0m \u001B[0;34m\u001B[0m\u001B[0m\n\u001B[0;32m--> 173\u001B[0;31m         \u001B[0mtable\u001B[0m \u001B[0;34m=\u001B[0m \u001B[0mself\u001B[0m\u001B[0;34m.\u001B[0m\u001B[0mapi\u001B[0m\u001B[0;34m.\u001B[0m\u001B[0mTable\u001B[0m\u001B[0;34m.\u001B[0m\u001B[0mfrom_pandas\u001B[0m\u001B[0;34m(\u001B[0m\u001B[0mdf\u001B[0m\u001B[0;34m,\u001B[0m \u001B[0;34m**\u001B[0m\u001B[0mfrom_pandas_kwargs\u001B[0m\u001B[0;34m)\u001B[0m\u001B[0;34m\u001B[0m\u001B[0;34m\u001B[0m\u001B[0m\n\u001B[0m\u001B[1;32m    174\u001B[0m \u001B[0;34m\u001B[0m\u001B[0m\n\u001B[1;32m    175\u001B[0m         path_or_handle, handles, kwargs[\"filesystem\"] = _get_path_or_handle(\n",
      "\u001B[0;32m/usr/local/lib/python3.7/dist-packages/pyarrow/table.pxi\u001B[0m in \u001B[0;36mpyarrow.lib.Table.from_pandas\u001B[0;34m()\u001B[0m\n",
      "\u001B[0;32m/usr/local/lib/python3.7/dist-packages/pyarrow/pandas_compat.py\u001B[0m in \u001B[0;36mdataframe_to_arrays\u001B[0;34m(df, schema, preserve_index, nthreads, columns, safe)\u001B[0m\n\u001B[1;32m    593\u001B[0m     \u001B[0;32mif\u001B[0m \u001B[0mnthreads\u001B[0m \u001B[0;34m==\u001B[0m \u001B[0;36m1\u001B[0m\u001B[0;34m:\u001B[0m\u001B[0;34m\u001B[0m\u001B[0;34m\u001B[0m\u001B[0m\n\u001B[1;32m    594\u001B[0m         arrays = [convert_column(c, f)\n\u001B[0;32m--> 595\u001B[0;31m                   for c, f in zip(columns_to_convert, convert_fields)]\n\u001B[0m\u001B[1;32m    596\u001B[0m     \u001B[0;32melse\u001B[0m\u001B[0;34m:\u001B[0m\u001B[0;34m\u001B[0m\u001B[0;34m\u001B[0m\u001B[0m\n\u001B[1;32m    597\u001B[0m         \u001B[0marrays\u001B[0m \u001B[0;34m=\u001B[0m \u001B[0;34m[\u001B[0m\u001B[0;34m]\u001B[0m\u001B[0;34m\u001B[0m\u001B[0;34m\u001B[0m\u001B[0m\n",
      "\u001B[0;32m/usr/local/lib/python3.7/dist-packages/pyarrow/pandas_compat.py\u001B[0m in \u001B[0;36m<listcomp>\u001B[0;34m(.0)\u001B[0m\n\u001B[1;32m    593\u001B[0m     \u001B[0;32mif\u001B[0m \u001B[0mnthreads\u001B[0m \u001B[0;34m==\u001B[0m \u001B[0;36m1\u001B[0m\u001B[0;34m:\u001B[0m\u001B[0;34m\u001B[0m\u001B[0;34m\u001B[0m\u001B[0m\n\u001B[1;32m    594\u001B[0m         arrays = [convert_column(c, f)\n\u001B[0;32m--> 595\u001B[0;31m                   for c, f in zip(columns_to_convert, convert_fields)]\n\u001B[0m\u001B[1;32m    596\u001B[0m     \u001B[0;32melse\u001B[0m\u001B[0;34m:\u001B[0m\u001B[0;34m\u001B[0m\u001B[0;34m\u001B[0m\u001B[0m\n\u001B[1;32m    597\u001B[0m         \u001B[0marrays\u001B[0m \u001B[0;34m=\u001B[0m \u001B[0;34m[\u001B[0m\u001B[0;34m]\u001B[0m\u001B[0;34m\u001B[0m\u001B[0;34m\u001B[0m\u001B[0m\n",
      "\u001B[0;32m/usr/local/lib/python3.7/dist-packages/pyarrow/pandas_compat.py\u001B[0m in \u001B[0;36mconvert_column\u001B[0;34m(col, field)\u001B[0m\n\u001B[1;32m    579\u001B[0m             e.args += (\"Conversion failed for column {!s} with type {!s}\"\n\u001B[1;32m    580\u001B[0m                        .format(col.name, col.dtype),)\n\u001B[0;32m--> 581\u001B[0;31m             \u001B[0;32mraise\u001B[0m \u001B[0me\u001B[0m\u001B[0;34m\u001B[0m\u001B[0;34m\u001B[0m\u001B[0m\n\u001B[0m\u001B[1;32m    582\u001B[0m         \u001B[0;32mif\u001B[0m \u001B[0;32mnot\u001B[0m \u001B[0mfield_nullable\u001B[0m \u001B[0;32mand\u001B[0m \u001B[0mresult\u001B[0m\u001B[0;34m.\u001B[0m\u001B[0mnull_count\u001B[0m \u001B[0;34m>\u001B[0m \u001B[0;36m0\u001B[0m\u001B[0;34m:\u001B[0m\u001B[0;34m\u001B[0m\u001B[0;34m\u001B[0m\u001B[0m\n\u001B[1;32m    583\u001B[0m             raise ValueError(\"Field {} was non-nullable but pandas column \"\n",
      "\u001B[0;32m/usr/local/lib/python3.7/dist-packages/pyarrow/pandas_compat.py\u001B[0m in \u001B[0;36mconvert_column\u001B[0;34m(col, field)\u001B[0m\n\u001B[1;32m    573\u001B[0m \u001B[0;34m\u001B[0m\u001B[0m\n\u001B[1;32m    574\u001B[0m         \u001B[0;32mtry\u001B[0m\u001B[0;34m:\u001B[0m\u001B[0;34m\u001B[0m\u001B[0;34m\u001B[0m\u001B[0m\n\u001B[0;32m--> 575\u001B[0;31m             \u001B[0mresult\u001B[0m \u001B[0;34m=\u001B[0m \u001B[0mpa\u001B[0m\u001B[0;34m.\u001B[0m\u001B[0marray\u001B[0m\u001B[0;34m(\u001B[0m\u001B[0mcol\u001B[0m\u001B[0;34m,\u001B[0m \u001B[0mtype\u001B[0m\u001B[0;34m=\u001B[0m\u001B[0mtype_\u001B[0m\u001B[0;34m,\u001B[0m \u001B[0mfrom_pandas\u001B[0m\u001B[0;34m=\u001B[0m\u001B[0;32mTrue\u001B[0m\u001B[0;34m,\u001B[0m \u001B[0msafe\u001B[0m\u001B[0;34m=\u001B[0m\u001B[0msafe\u001B[0m\u001B[0;34m)\u001B[0m\u001B[0;34m\u001B[0m\u001B[0;34m\u001B[0m\u001B[0m\n\u001B[0m\u001B[1;32m    576\u001B[0m         except (pa.ArrowInvalid,\n\u001B[1;32m    577\u001B[0m                 \u001B[0mpa\u001B[0m\u001B[0;34m.\u001B[0m\u001B[0mArrowNotImplementedError\u001B[0m\u001B[0;34m,\u001B[0m\u001B[0;34m\u001B[0m\u001B[0;34m\u001B[0m\u001B[0m\n",
      "\u001B[0;32m/usr/local/lib/python3.7/dist-packages/pyarrow/array.pxi\u001B[0m in \u001B[0;36mpyarrow.lib.array\u001B[0;34m()\u001B[0m\n",
      "\u001B[0;32m/usr/local/lib/python3.7/dist-packages/pyarrow/array.pxi\u001B[0m in \u001B[0;36mpyarrow.lib._ndarray_to_array\u001B[0;34m()\u001B[0m\n",
      "\u001B[0;32m/usr/local/lib/python3.7/dist-packages/pyarrow/error.pxi\u001B[0m in \u001B[0;36mpyarrow.lib.check_status\u001B[0;34m()\u001B[0m\n",
      "\u001B[0;31mArrowInvalid\u001B[0m: ('Can only convert 1-dimensional array values', 'Conversion failed for column parts with type object')"
     ]
    }
   ]
  },
  {
   "cell_type": "code",
   "source": [
    "plt.title('Quantidade dos conjuntos de instrumentos')\n",
    "ax = sns.countplot(y=\"conjunto\", data=just_mid_to_use, order=['Piano', 'Quarteto de cordas', \n",
    "                                                              'Violino Acompanhado', 'Violoncelo Acompanhado', 'Quarteto de Piano'])"
   ],
   "metadata": {
    "colab": {
     "base_uri": "https://localhost:8080/",
     "height": 299
    },
    "id": "fXaed2xlc6fm",
    "executionInfo": {
     "status": "ok",
     "timestamp": 1661626290029,
     "user_tz": 180,
     "elapsed": 699,
     "user": {
      "displayName": "Miguel",
      "userId": "03341687265919124027"
     }
    },
    "outputId": "d4e47eec-ee1a-402f-ebb6-5e9b2b8b099b",
    "pycharm": {
     "name": "#%%\n"
    }
   },
   "execution_count": 19,
   "outputs": [
    {
     "output_type": "display_data",
     "data": {
      "text/plain": [
       "<Figure size 432x288 with 1 Axes>"
      ],
      "image/png": "[encoded data removed]"
     },
     "metadata": {
      "image/png": {
       "width": 513,
       "height": 282
      }
     }
    }
   ]
  },
  {
   "cell_type": "code",
   "source": [
    "just_mid_to_use.conjunto.value_counts()"
   ],
   "metadata": {
    "colab": {
     "base_uri": "https://localhost:8080/"
    },
    "id": "OCChFrdNigzC",
    "executionInfo": {
     "status": "ok",
     "timestamp": 1661626290029,
     "user_tz": 180,
     "elapsed": 7,
     "user": {
      "displayName": "Miguel",
      "userId": "03341687265919124027"
     }
    },
    "outputId": "89302724-e994-4205-c4d7-a68d38d56436",
    "pycharm": {
     "name": "#%%\n"
    }
   },
   "execution_count": 20,
   "outputs": [
    {
     "output_type": "execute_result",
     "data": {
      "text/plain": [
       "Piano                     109\n",
       "Quarteto de cordas         51\n",
       "Violino Acompanhado        16\n",
       "Violoncelo Acompanhado      4\n",
       "Quarteto de Piano           4\n",
       "Name: conjunto, dtype: int64"
      ]
     },
     "metadata": {},
     "execution_count": 20
    }
   ]
  },
  {
   "cell_type": "code",
   "source": [
    "just_mid_to_use.composer_name.value_counts()"
   ],
   "metadata": {
    "colab": {
     "base_uri": "https://localhost:8080/"
    },
    "id": "u5JGt9OdZsmz",
    "executionInfo": {
     "status": "ok",
     "timestamp": 1661626290030,
     "user_tz": 180,
     "elapsed": 5,
     "user": {
      "displayName": "Miguel",
      "userId": "03341687265919124027"
     }
    },
    "outputId": "62b99db4-6168-4120-d9c1-a2eab2d3ab9a",
    "pycharm": {
     "name": "#%%\n"
    }
   },
   "execution_count": 21,
   "outputs": [
    {
     "output_type": "execute_result",
     "data": {
      "text/plain": [
       "Beethoven    138\n",
       "Schubert      19\n",
       "Mozart        12\n",
       "Dvorak         5\n",
       "Faure          4\n",
       "Haydn          3\n",
       "Ravel          3\n",
       "Name: composer_name, dtype: int64"
      ]
     },
     "metadata": {},
     "execution_count": 21
    }
   ]
  },
  {
   "cell_type": "code",
   "source": [
    "plt.title('Número de arquivos selecionados por compositor')\n",
    "ax = sns.countplot(y=\"composer_name\", data=just_mid_to_use, order=['Beethoven', 'Schubert', 'Mozart', \n",
    "                                                                   'Dvorak', 'Faure', 'Ravel', 'Haydn'])"
   ],
   "metadata": {
    "colab": {
     "base_uri": "https://localhost:8080/",
     "height": 300
    },
    "id": "KxwCixMOZvQp",
    "executionInfo": {
     "status": "ok",
     "timestamp": 1661626290675,
     "user_tz": 180,
     "elapsed": 649,
     "user": {
      "displayName": "Miguel",
      "userId": "03341687265919124027"
     }
    },
    "outputId": "bb6f354f-bbb9-4c21-bdcb-a597ab889b3a",
    "pycharm": {
     "name": "#%%\n"
    }
   },
   "execution_count": 22,
   "outputs": [
    {
     "output_type": "display_data",
     "data": {
      "text/plain": [
       "<Figure size 432x288 with 1 Axes>"
      ],
      "image/png": "[encoded data removed]"
     },
     "metadata": {
      "image/png": {
       "width": 434,
       "height": 283
      }
     }
    }
   ]
  },
  {
   "cell_type": "code",
   "source": [
    "just_mid_to_use.groupby(['composer_name', 'track_names_str']).size()\n",
    "\n"
   ],
   "metadata": {
    "colab": {
     "base_uri": "https://localhost:8080/"
    },
    "id": "ZLWEWRbwaEXK",
    "executionInfo": {
     "status": "ok",
     "timestamp": 1661626290676,
     "user_tz": 180,
     "elapsed": 11,
     "user": {
      "displayName": "Miguel",
      "userId": "03341687265919124027"
     }
    },
    "outputId": "676c33d3-a33e-405e-c104-c3d3a8dc5798",
    "pycharm": {
     "name": "#%%\n"
    }
   },
   "execution_count": 23,
   "outputs": [
    {
     "output_type": "execute_result",
     "data": {
      "text/plain": [
       "composer_name  track_names_str                                           \n",
       "Beethoven      ['Cello', 'Piano Right', 'Piano Left']                         4\n",
       "               ['Piano Right', 'Piano Left']                                 90\n",
       "               ['Violin1', 'Piano Right', 'Piano Left']                       9\n",
       "               ['Violin1', 'Piano']                                           7\n",
       "               ['Violin1', 'Violin2', 'Viola', 'Cello']                      28\n",
       "Dvorak         ['Violin1', 'Violin2', 'Viola', 'Cello']                       3\n",
       "               ['Violin2', 'Cello', 'Viola', 'Violin1']                       2\n",
       "Faure          ['Violin1', 'Viola', 'Cello', 'Piano Right', 'Piano Left']     4\n",
       "Haydn          ['Violin1', 'Violin2', 'Viola', 'Cello']                       3\n",
       "Mozart         ['Violin1', 'Violin2', 'Viola', 'Cello']                      12\n",
       "Ravel          ['Violin1', 'Violin2', 'Viola', 'Cello']                       3\n",
       "Schubert       ['Piano Right', 'Piano Left']                                  3\n",
       "               ['Piano']                                                     16\n",
       "dtype: int64"
      ]
     },
     "metadata": {},
     "execution_count": 23
    }
   ]
  },
  {
   "cell_type": "code",
   "source": [
    "\n",
    "ax = sns.countplot(y=\"composer_name\", hue=\"conjunto\", data=just_mid_to_use, order=['Beethoven', 'Schubert', 'Mozart', \n",
    "                                                                                   'Dvorak', 'Faure', 'Ravel', 'Haydn'], hue_order=['Piano', 'Quarteto de cordas', \n",
    "                                                                                                                                    'Violino Acompanhado', 'Violoncelo Acompanhado', 'Quarteto de Piano'])\n",
    "plt.title('Conjunto de instrumentos por compositor') \n",
    "plt.legend(bbox_to_anchor=(1.10, 1), loc=1, borderaxespad=2)\n"
   ],
   "metadata": {
    "colab": {
     "base_uri": "https://localhost:8080/",
     "height": 316
    },
    "id": "2QJH5uc5b-bX",
    "executionInfo": {
     "status": "ok",
     "timestamp": 1661626291269,
     "user_tz": 180,
     "elapsed": 602,
     "user": {
      "displayName": "Miguel",
      "userId": "03341687265919124027"
     }
    },
    "outputId": "0d4b2c8f-bbc0-489e-be94-7d30f5e5fa9b",
    "pycharm": {
     "name": "#%%\n"
    }
   },
   "execution_count": 24,
   "outputs": [
    {
     "output_type": "execute_result",
     "data": {
      "text/plain": [
       "<matplotlib.legend.Legend at 0x7fc47561bd10>"
      ]
     },
     "metadata": {},
     "execution_count": 24
    },
    {
     "output_type": "display_data",
     "data": {
      "text/plain": [
       "<Figure size 432x288 with 1 Axes>"
      ],
      "image/png": "[encoded data removed]"
     },
     "metadata": {
      "image/png": {
       "width": 445,
       "height": 282
      }
     }
    }
   ]
  },
  {
   "cell_type": "code",
   "source": [
    "def perc_track_not_zero(parts):\n",
    "  track_use = {}\n",
    "  sum_all_tracks = 0\n",
    "  for each_track in parts.keys():\n",
    "    sum_all_tracks += np.count_nonzero(parts[each_track])\n",
    "  \n",
    "  for each_track in parts.keys():\n",
    "    track_use[each_track] = np.round(np.count_nonzero(parts[each_track]) / sum_all_tracks, 2)\n",
    "\n",
    "  return track_use\n"
   ],
   "metadata": {
    "id": "ytZYrs6IaYQ_",
    "executionInfo": {
     "status": "ok",
     "timestamp": 1661626291271,
     "user_tz": 180,
     "elapsed": 10,
     "user": {
      "displayName": "Miguel",
      "userId": "03341687265919124027"
     }
    },
    "pycharm": {
     "name": "#%%\n"
    }
   },
   "execution_count": 25,
   "outputs": []
  },
  {
   "cell_type": "code",
   "source": [
    "\n",
    "just_mid_to_use['qtd_usage_track'] = just_mid_to_use.parts.apply(perc_track_not_zero)"
   ],
   "metadata": {
    "id": "s0WrDg1wlY6f",
    "executionInfo": {
     "status": "ok",
     "timestamp": 1661626291765,
     "user_tz": 180,
     "elapsed": 503,
     "user": {
      "displayName": "Miguel",
      "userId": "03341687265919124027"
     }
    },
    "colab": {
     "base_uri": "https://localhost:8080/"
    },
    "outputId": "047b6b0d-bcca-4fb8-e53e-74358fbdf71e",
    "pycharm": {
     "name": "#%%\n"
    }
   },
   "execution_count": 26,
   "outputs": [
    {
     "output_type": "stream",
     "name": "stderr",
     "text": [
      "/usr/local/lib/python3.7/dist-packages/ipykernel_launcher.py:1: SettingWithCopyWarning: \n",
      "A value is trying to be set on a copy of a slice from a DataFrame.\n",
      "Try using .loc[row_indexer,col_indexer] = value instead\n",
      "\n",
      "See the caveats in the documentation: https://pandas.pydata.org/pandas-docs/stable/user_guide/indexing.html#returning-a-view-versus-a-copy\n",
      "  \"\"\"Entry point for launching an IPython kernel.\n"
     ]
    }
   ]
  },
  {
   "cell_type": "code",
   "source": [
    "\n",
    "def range_percent(data):\n",
    "  fig, axs = plt.subplots(ncols=2, nrows=3, figsize=(12,14))\n",
    "  col = 0\n",
    "  row = 0\n",
    "  for index, columns in data:\n",
    "    ax = sns.boxplot(data=pd.DataFrame(columns.tolist()), palette=\"Set3\", ax=axs[row][col]) #, bw=.2, cut=1, linewidth=1\n",
    "    ax.title.set_text(f'{index}')\n",
    "    col +=1\n",
    "    if col >= 2:\n",
    "      col = 0\n",
    "      row += 1\n",
    "\n",
    "  fig.delaxes(axs[2,1])\n",
    "  fig.show()\n",
    "  "
   ],
   "metadata": {
    "id": "VWOnCfuDf23S",
    "executionInfo": {
     "status": "ok",
     "timestamp": 1661626291766,
     "user_tz": 180,
     "elapsed": 4,
     "user": {
      "displayName": "Miguel",
      "userId": "03341687265919124027"
     }
    },
    "pycharm": {
     "name": "#%%\n"
    }
   },
   "execution_count": 27,
   "outputs": []
  },
  {
   "cell_type": "code",
   "source": [
    "conjunto_range = just_mid_to_use.groupby(['conjunto'])['qtd_usage_track'].pipe(range_percent)\n"
   ],
   "metadata": {
    "colab": {
     "base_uri": "https://localhost:8080/",
     "height": 827
    },
    "id": "YCTTUSR8daec",
    "executionInfo": {
     "status": "ok",
     "timestamp": 1661626293246,
     "user_tz": 180,
     "elapsed": 1483,
     "user": {
      "displayName": "Miguel",
      "userId": "03341687265919124027"
     }
    },
    "outputId": "e6990112-fe68-4729-c9df-44fa1873bfea",
    "pycharm": {
     "name": "#%%\n"
    }
   },
   "execution_count": 28,
   "outputs": [
    {
     "output_type": "display_data",
     "data": {
      "text/plain": [
       "<Figure size 864x1008 with 5 Axes>"
      ],
      "image/png": "[encoded data removed]"
     },
     "metadata": {
      "image/png": {
       "width": 725,
       "height": 810
      }
     }
    }
   ]
  }
 ],
 "metadata": {
  "colab": {
   "name": "pre-processing.ipynb",
   "provenance": [],
   "collapsed_sections": [],
   "authorship_tag": "ABX9TyOg59kdbtE1pex7pfupskJN"
  },
  "kernelspec": {
   "display_name": "Python 3",
   "name": "python3"
  },
  "language_info": {
   "name": "python"
  }
 },
 "nbformat": 4,
 "nbformat_minor": 0
}