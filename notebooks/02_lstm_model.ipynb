{
 "cells": [
  {
   "cell_type": "code",
   "execution_count": null,
   "metadata": {
    "collapsed": true,
    "pycharm": {
     "name": "#%%\n"
    }
   },
   "outputs": [],
   "source": [
    "import os\n",
    "import pickle\n",
    "\n",
    "import keras.optimizers\n",
    "import numpy as np\n",
    "from keras import Sequential\n",
    "from keras.layers import LSTM, Dense, Activation\n",
    "from keras.callbacks import ModelCheckpoint\n",
    "import pandas as pd"
   ]
  },
  {
   "cell_type": "code",
   "execution_count": null,
   "outputs": [],
   "source": [
    "input_path = 'data'\n",
    "preparation_path = os.path.join(input_path, '02_preparation')\n",
    "model_path = os.path.join(input_path, '03_model')\n",
    "checkpoint_path = os.path.join(model_path, 'lstm', 'checkpoints')"
   ],
   "metadata": {
    "collapsed": false,
    "pycharm": {
     "name": "#%%\n"
    }
   }
  },
  {
   "cell_type": "code",
   "execution_count": null,
   "outputs": [],
   "source": [
    "def lstm_model():\n",
    "    model = Sequential()\n",
    "    model.add(LSTM(128, return_sequences=True))\n",
    "    model.add(LSTM(128))\n",
    "    model.add(Dense(256))\n",
    "    model.add(Activation('relu'))\n",
    "    model.add(Dense(130))\n",
    "    model.add(Activation('softmax'))\n",
    "    opt = keras.optimizers.Adam(learning_rate=0.00002)\n",
    "    model.compile(loss='sparse_categorical_crossentropy', optimizer=opt)\n",
    "    return model"
   ],
   "metadata": {
    "collapsed": false,
    "pycharm": {
     "name": "#%%\n"
    }
   }
  },
  {
   "cell_type": "code",
   "execution_count": null,
   "outputs": [],
   "source": [
    "model = lstm_model()\n",
    "\n",
    "mc = ModelCheckpoint(os.path.join(checkpoint_path, 'best_model.h5'), monitor='val_loss', mode='min',\n",
    "                     save_best_only=True, verbose=1)\n",
    "\n",
    "file = os.path.join(preparation_path, f'x_tr.pkl')\n",
    "with open(file, 'rb') as f:\n",
    "    x_tr = pickle.load(f).astype(np.float32)\n",
    "\n",
    "file = os.path.join(preparation_path, f'x_val.pkl')\n",
    "with open(file, 'rb') as f:\n",
    "    x_val = pickle.load(f).astype(np.float32)\n",
    "\n",
    "file = os.path.join(preparation_path, f'y_tr.pkl')\n",
    "with open(file, 'rb') as f:\n",
    "    y_tr = pickle.load(f).astype(np.float32)\n",
    "\n",
    "file = os.path.join(preparation_path, f'y_val.pkl')\n",
    "with open(file, 'rb') as f:\n",
    "    y_val = pickle.load(f).astype(np.float32)\n",
    "\n",
    "x_tr = x_tr.reshape(-1, 1, 32)\n",
    "y_tr = y_tr.reshape(-1, 1)\n",
    "x_val = x_val.reshape(-1, 1, 32)\n",
    "y_val = y_val.reshape(-1, 1)\n",
    "\n",
    "history = model.fit(np.array(x_tr), np.array(y_tr), batch_size=128, epochs=3000, validation_data=(np.array(x_val),\n",
    "                                                                                                  np.array(y_val)),\n",
    "                    verbose=1, callbacks=[mc])\n",
    "\n",
    "model_history = pd.DataFrame(history.history)\n",
    "model_history['epoch'] = history.epoch\n",
    "\n",
    "model_history.to_csv('model_history.csv', index=False)\n"
   ],
   "metadata": {
    "collapsed": false,
    "pycharm": {
     "name": "#%%\n"
    }
   }
  }
 ],
 "metadata": {
  "kernelspec": {
   "display_name": "Python 3",
   "language": "python",
   "name": "python3"
  },
  "language_info": {
   "codemirror_mode": {
    "name": "ipython",
    "version": 2
   },
   "file_extension": ".py",
   "mimetype": "text/x-python",
   "name": "python",
   "nbconvert_exporter": "python",
   "pygments_lexer": "ipython2",
   "version": "2.7.6"
  }
 },
 "nbformat": 4,
 "nbformat_minor": 0
}